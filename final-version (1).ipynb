{
 "cells": [
  {
   "cell_type": "markdown",
   "id": "79a557c0",
   "metadata": {
    "papermill": {
     "duration": 0.018673,
     "end_time": "2022-11-26T21:50:36.626508",
     "exception": false,
     "start_time": "2022-11-26T21:50:36.607835",
     "status": "completed"
    },
    "tags": []
   },
   "source": [
    "# Installing the library"
   ]
  },
  {
   "cell_type": "code",
   "execution_count": 1,
   "id": "3eee7a15",
   "metadata": {
    "_cell_guid": "b1076dfc-b9ad-4769-8c92-a6c4dae69d19",
    "_uuid": "8f2839f25d086af736a60e9eeb907d3b93b6e0e5",
    "execution": {
     "iopub.execute_input": "2022-11-26T21:50:36.661393Z",
     "iopub.status.busy": "2022-11-26T21:50:36.660380Z",
     "iopub.status.idle": "2022-11-26T21:50:38.204671Z",
     "shell.execute_reply": "2022-11-26T21:50:38.203227Z"
    },
    "papermill": {
     "duration": 1.566168,
     "end_time": "2022-11-26T21:50:38.208271",
     "exception": false,
     "start_time": "2022-11-26T21:50:36.642103",
     "status": "completed"
    },
    "tags": []
   },
   "outputs": [
    {
     "name": "stdout",
     "output_type": "stream",
     "text": [
      "/kaggle/input/titanic/train.csv\n",
      "/kaggle/input/titanic/test.csv\n",
      "/kaggle/input/titanic/gender_submission.csv\n"
     ]
    }
   ],
   "source": [
    "# linear algebra\n",
    "import numpy as np \n",
    "\n",
    "# data processing\n",
    "import pandas as pd \n",
    "\n",
    "# data visualization(for EDA)\n",
    "import seaborn as sns\n",
    "%matplotlib inline\n",
    "from matplotlib import pyplot as plt\n",
    "from matplotlib import style\n",
    "\n",
    "#We will use the popular scikit-learn library to develop our machine learning algorithms\n",
    "\n",
    "# Model Helpers\n",
    "from sklearn.preprocessing import OneHotEncoder, LabelEncoder, StandardScaler\n",
    "from sklearn.metrics import roc_curve, auc\n",
    "\n",
    "# Models\n",
    "from sklearn import linear_model\n",
    "from sklearn.linear_model import LinearRegression\n",
    "from sklearn.linear_model import LogisticRegression\n",
    "from sklearn.ensemble import RandomForestClassifier\n",
    "from sklearn.linear_model import Perceptron\n",
    "from sklearn.linear_model import SGDClassifier\n",
    "from sklearn.tree import DecisionTreeClassifier\n",
    "from sklearn.neighbors import KNeighborsClassifier\n",
    "from sklearn.svm import SVC, LinearSVC\n",
    "from sklearn.naive_bayes import GaussianNB\n",
    "from sklearn.preprocessing import StandardScaler\n",
    "\n",
    "import string\n",
    "\n",
    "#ignore warnings\n",
    "import warnings\n",
    "warnings.filterwarnings('ignore')\n",
    "\n",
    "import os\n",
    "for dirname, _, filenames in os.walk('/kaggle/input'):\n",
    "    for filename in filenames:\n",
    "        print(os.path.join(dirname, filename))\n",
    "\n",
    "# You can write up to 20GB to the current directory (/kaggle/working/) that gets preserved as output when you create a version using \"Save & Run All\" \n",
    "# You can also write temporary files to /kaggle/temp/, but they won't be saved outside of the current session"
   ]
  },
  {
   "cell_type": "code",
   "execution_count": 2,
   "id": "f72f2cc3",
   "metadata": {
    "execution": {
     "iopub.execute_input": "2022-11-26T21:50:38.238340Z",
     "iopub.status.busy": "2022-11-26T21:50:38.237597Z",
     "iopub.status.idle": "2022-11-26T21:50:38.268919Z",
     "shell.execute_reply": "2022-11-26T21:50:38.268119Z"
    },
    "papermill": {
     "duration": 0.048517,
     "end_time": "2022-11-26T21:50:38.271200",
     "exception": false,
     "start_time": "2022-11-26T21:50:38.222683",
     "status": "completed"
    },
    "tags": []
   },
   "outputs": [
    {
     "name": "stdout",
     "output_type": "stream",
     "text": [
      "The total number of instance in train dataset:  891\n",
      "The total number of instance in test dataset:  418\n"
     ]
    }
   ],
   "source": [
    "df_train = pd.read_csv('/kaggle/input/titanic/train.csv')#read train data as a dataframe\n",
    "df_test = pd.read_csv('/kaggle/input/titanic/test.csv')#read test data as a dataframe\n",
    "print('The total number of instance in train dataset: ',len(df_train))\n",
    "print('The total number of instance in test dataset: ',len(df_test))"
   ]
  },
  {
   "cell_type": "code",
   "execution_count": 3,
   "id": "d7381e98",
   "metadata": {
    "execution": {
     "iopub.execute_input": "2022-11-26T21:50:38.300387Z",
     "iopub.status.busy": "2022-11-26T21:50:38.299970Z",
     "iopub.status.idle": "2022-11-26T21:50:38.333233Z",
     "shell.execute_reply": "2022-11-26T21:50:38.331851Z"
    },
    "papermill": {
     "duration": 0.050998,
     "end_time": "2022-11-26T21:50:38.335691",
     "exception": false,
     "start_time": "2022-11-26T21:50:38.284693",
     "status": "completed"
    },
    "tags": []
   },
   "outputs": [
    {
     "data": {
      "text/html": [
       "<div>\n",
       "<style scoped>\n",
       "    .dataframe tbody tr th:only-of-type {\n",
       "        vertical-align: middle;\n",
       "    }\n",
       "\n",
       "    .dataframe tbody tr th {\n",
       "        vertical-align: top;\n",
       "    }\n",
       "\n",
       "    .dataframe thead th {\n",
       "        text-align: right;\n",
       "    }\n",
       "</style>\n",
       "<table border=\"1\" class=\"dataframe\">\n",
       "  <thead>\n",
       "    <tr style=\"text-align: right;\">\n",
       "      <th></th>\n",
       "      <th>PassengerId</th>\n",
       "      <th>Survived</th>\n",
       "      <th>Pclass</th>\n",
       "      <th>Name</th>\n",
       "      <th>Sex</th>\n",
       "      <th>Age</th>\n",
       "      <th>SibSp</th>\n",
       "      <th>Parch</th>\n",
       "      <th>Ticket</th>\n",
       "      <th>Fare</th>\n",
       "      <th>Cabin</th>\n",
       "      <th>Embarked</th>\n",
       "    </tr>\n",
       "  </thead>\n",
       "  <tbody>\n",
       "    <tr>\n",
       "      <th>0</th>\n",
       "      <td>1</td>\n",
       "      <td>0</td>\n",
       "      <td>3</td>\n",
       "      <td>Braund, Mr. Owen Harris</td>\n",
       "      <td>male</td>\n",
       "      <td>22.0</td>\n",
       "      <td>1</td>\n",
       "      <td>0</td>\n",
       "      <td>A/5 21171</td>\n",
       "      <td>7.2500</td>\n",
       "      <td>NaN</td>\n",
       "      <td>S</td>\n",
       "    </tr>\n",
       "    <tr>\n",
       "      <th>1</th>\n",
       "      <td>2</td>\n",
       "      <td>1</td>\n",
       "      <td>1</td>\n",
       "      <td>Cumings, Mrs. John Bradley (Florence Briggs Th...</td>\n",
       "      <td>female</td>\n",
       "      <td>38.0</td>\n",
       "      <td>1</td>\n",
       "      <td>0</td>\n",
       "      <td>PC 17599</td>\n",
       "      <td>71.2833</td>\n",
       "      <td>C85</td>\n",
       "      <td>C</td>\n",
       "    </tr>\n",
       "    <tr>\n",
       "      <th>2</th>\n",
       "      <td>3</td>\n",
       "      <td>1</td>\n",
       "      <td>3</td>\n",
       "      <td>Heikkinen, Miss. Laina</td>\n",
       "      <td>female</td>\n",
       "      <td>26.0</td>\n",
       "      <td>0</td>\n",
       "      <td>0</td>\n",
       "      <td>STON/O2. 3101282</td>\n",
       "      <td>7.9250</td>\n",
       "      <td>NaN</td>\n",
       "      <td>S</td>\n",
       "    </tr>\n",
       "    <tr>\n",
       "      <th>3</th>\n",
       "      <td>4</td>\n",
       "      <td>1</td>\n",
       "      <td>1</td>\n",
       "      <td>Futrelle, Mrs. Jacques Heath (Lily May Peel)</td>\n",
       "      <td>female</td>\n",
       "      <td>35.0</td>\n",
       "      <td>1</td>\n",
       "      <td>0</td>\n",
       "      <td>113803</td>\n",
       "      <td>53.1000</td>\n",
       "      <td>C123</td>\n",
       "      <td>S</td>\n",
       "    </tr>\n",
       "    <tr>\n",
       "      <th>4</th>\n",
       "      <td>5</td>\n",
       "      <td>0</td>\n",
       "      <td>3</td>\n",
       "      <td>Allen, Mr. William Henry</td>\n",
       "      <td>male</td>\n",
       "      <td>35.0</td>\n",
       "      <td>0</td>\n",
       "      <td>0</td>\n",
       "      <td>373450</td>\n",
       "      <td>8.0500</td>\n",
       "      <td>NaN</td>\n",
       "      <td>S</td>\n",
       "    </tr>\n",
       "    <tr>\n",
       "      <th>...</th>\n",
       "      <td>...</td>\n",
       "      <td>...</td>\n",
       "      <td>...</td>\n",
       "      <td>...</td>\n",
       "      <td>...</td>\n",
       "      <td>...</td>\n",
       "      <td>...</td>\n",
       "      <td>...</td>\n",
       "      <td>...</td>\n",
       "      <td>...</td>\n",
       "      <td>...</td>\n",
       "      <td>...</td>\n",
       "    </tr>\n",
       "    <tr>\n",
       "      <th>886</th>\n",
       "      <td>887</td>\n",
       "      <td>0</td>\n",
       "      <td>2</td>\n",
       "      <td>Montvila, Rev. Juozas</td>\n",
       "      <td>male</td>\n",
       "      <td>27.0</td>\n",
       "      <td>0</td>\n",
       "      <td>0</td>\n",
       "      <td>211536</td>\n",
       "      <td>13.0000</td>\n",
       "      <td>NaN</td>\n",
       "      <td>S</td>\n",
       "    </tr>\n",
       "    <tr>\n",
       "      <th>887</th>\n",
       "      <td>888</td>\n",
       "      <td>1</td>\n",
       "      <td>1</td>\n",
       "      <td>Graham, Miss. Margaret Edith</td>\n",
       "      <td>female</td>\n",
       "      <td>19.0</td>\n",
       "      <td>0</td>\n",
       "      <td>0</td>\n",
       "      <td>112053</td>\n",
       "      <td>30.0000</td>\n",
       "      <td>B42</td>\n",
       "      <td>S</td>\n",
       "    </tr>\n",
       "    <tr>\n",
       "      <th>888</th>\n",
       "      <td>889</td>\n",
       "      <td>0</td>\n",
       "      <td>3</td>\n",
       "      <td>Johnston, Miss. Catherine Helen \"Carrie\"</td>\n",
       "      <td>female</td>\n",
       "      <td>NaN</td>\n",
       "      <td>1</td>\n",
       "      <td>2</td>\n",
       "      <td>W./C. 6607</td>\n",
       "      <td>23.4500</td>\n",
       "      <td>NaN</td>\n",
       "      <td>S</td>\n",
       "    </tr>\n",
       "    <tr>\n",
       "      <th>889</th>\n",
       "      <td>890</td>\n",
       "      <td>1</td>\n",
       "      <td>1</td>\n",
       "      <td>Behr, Mr. Karl Howell</td>\n",
       "      <td>male</td>\n",
       "      <td>26.0</td>\n",
       "      <td>0</td>\n",
       "      <td>0</td>\n",
       "      <td>111369</td>\n",
       "      <td>30.0000</td>\n",
       "      <td>C148</td>\n",
       "      <td>C</td>\n",
       "    </tr>\n",
       "    <tr>\n",
       "      <th>890</th>\n",
       "      <td>891</td>\n",
       "      <td>0</td>\n",
       "      <td>3</td>\n",
       "      <td>Dooley, Mr. Patrick</td>\n",
       "      <td>male</td>\n",
       "      <td>32.0</td>\n",
       "      <td>0</td>\n",
       "      <td>0</td>\n",
       "      <td>370376</td>\n",
       "      <td>7.7500</td>\n",
       "      <td>NaN</td>\n",
       "      <td>Q</td>\n",
       "    </tr>\n",
       "  </tbody>\n",
       "</table>\n",
       "<p>891 rows × 12 columns</p>\n",
       "</div>"
      ],
      "text/plain": [
       "     PassengerId  Survived  Pclass  \\\n",
       "0              1         0       3   \n",
       "1              2         1       1   \n",
       "2              3         1       3   \n",
       "3              4         1       1   \n",
       "4              5         0       3   \n",
       "..           ...       ...     ...   \n",
       "886          887         0       2   \n",
       "887          888         1       1   \n",
       "888          889         0       3   \n",
       "889          890         1       1   \n",
       "890          891         0       3   \n",
       "\n",
       "                                                  Name     Sex   Age  SibSp  \\\n",
       "0                              Braund, Mr. Owen Harris    male  22.0      1   \n",
       "1    Cumings, Mrs. John Bradley (Florence Briggs Th...  female  38.0      1   \n",
       "2                               Heikkinen, Miss. Laina  female  26.0      0   \n",
       "3         Futrelle, Mrs. Jacques Heath (Lily May Peel)  female  35.0      1   \n",
       "4                             Allen, Mr. William Henry    male  35.0      0   \n",
       "..                                                 ...     ...   ...    ...   \n",
       "886                              Montvila, Rev. Juozas    male  27.0      0   \n",
       "887                       Graham, Miss. Margaret Edith  female  19.0      0   \n",
       "888           Johnston, Miss. Catherine Helen \"Carrie\"  female   NaN      1   \n",
       "889                              Behr, Mr. Karl Howell    male  26.0      0   \n",
       "890                                Dooley, Mr. Patrick    male  32.0      0   \n",
       "\n",
       "     Parch            Ticket     Fare Cabin Embarked  \n",
       "0        0         A/5 21171   7.2500   NaN        S  \n",
       "1        0          PC 17599  71.2833   C85        C  \n",
       "2        0  STON/O2. 3101282   7.9250   NaN        S  \n",
       "3        0            113803  53.1000  C123        S  \n",
       "4        0            373450   8.0500   NaN        S  \n",
       "..     ...               ...      ...   ...      ...  \n",
       "886      0            211536  13.0000   NaN        S  \n",
       "887      0            112053  30.0000   B42        S  \n",
       "888      2        W./C. 6607  23.4500   NaN        S  \n",
       "889      0            111369  30.0000  C148        C  \n",
       "890      0            370376   7.7500   NaN        Q  \n",
       "\n",
       "[891 rows x 12 columns]"
      ]
     },
     "execution_count": 3,
     "metadata": {},
     "output_type": "execute_result"
    }
   ],
   "source": [
    "df_train"
   ]
  },
  {
   "cell_type": "code",
   "execution_count": 4,
   "id": "c7fdbb98",
   "metadata": {
    "execution": {
     "iopub.execute_input": "2022-11-26T21:50:38.365725Z",
     "iopub.status.busy": "2022-11-26T21:50:38.364758Z",
     "iopub.status.idle": "2022-11-26T21:50:38.420270Z",
     "shell.execute_reply": "2022-11-26T21:50:38.419147Z"
    },
    "papermill": {
     "duration": 0.072894,
     "end_time": "2022-11-26T21:50:38.422583",
     "exception": false,
     "start_time": "2022-11-26T21:50:38.349689",
     "status": "completed"
    },
    "tags": []
   },
   "outputs": [
    {
     "name": "stdout",
     "output_type": "stream",
     "text": [
      "<class 'pandas.core.frame.DataFrame'>\n",
      "RangeIndex: 891 entries, 0 to 890\n",
      "Data columns (total 12 columns):\n",
      " #   Column       Non-Null Count  Dtype  \n",
      "---  ------       --------------  -----  \n",
      " 0   PassengerId  891 non-null    int64  \n",
      " 1   Survived     891 non-null    int64  \n",
      " 2   Pclass       891 non-null    int64  \n",
      " 3   Name         891 non-null    object \n",
      " 4   Sex          891 non-null    object \n",
      " 5   Age          714 non-null    float64\n",
      " 6   SibSp        891 non-null    int64  \n",
      " 7   Parch        891 non-null    int64  \n",
      " 8   Ticket       891 non-null    object \n",
      " 9   Fare         891 non-null    float64\n",
      " 10  Cabin        204 non-null    object \n",
      " 11  Embarked     889 non-null    object \n",
      "dtypes: float64(2), int64(5), object(5)\n",
      "memory usage: 83.7+ KB\n"
     ]
    },
    {
     "data": {
      "text/html": [
       "<div>\n",
       "<style scoped>\n",
       "    .dataframe tbody tr th:only-of-type {\n",
       "        vertical-align: middle;\n",
       "    }\n",
       "\n",
       "    .dataframe tbody tr th {\n",
       "        vertical-align: top;\n",
       "    }\n",
       "\n",
       "    .dataframe thead th {\n",
       "        text-align: right;\n",
       "    }\n",
       "</style>\n",
       "<table border=\"1\" class=\"dataframe\">\n",
       "  <thead>\n",
       "    <tr style=\"text-align: right;\">\n",
       "      <th></th>\n",
       "      <th>PassengerId</th>\n",
       "      <th>Survived</th>\n",
       "      <th>Pclass</th>\n",
       "      <th>Age</th>\n",
       "      <th>SibSp</th>\n",
       "      <th>Parch</th>\n",
       "      <th>Fare</th>\n",
       "    </tr>\n",
       "  </thead>\n",
       "  <tbody>\n",
       "    <tr>\n",
       "      <th>count</th>\n",
       "      <td>891.000000</td>\n",
       "      <td>891.000000</td>\n",
       "      <td>891.000000</td>\n",
       "      <td>714.000000</td>\n",
       "      <td>891.000000</td>\n",
       "      <td>891.000000</td>\n",
       "      <td>891.000000</td>\n",
       "    </tr>\n",
       "    <tr>\n",
       "      <th>mean</th>\n",
       "      <td>446.000000</td>\n",
       "      <td>0.383838</td>\n",
       "      <td>2.308642</td>\n",
       "      <td>29.699118</td>\n",
       "      <td>0.523008</td>\n",
       "      <td>0.381594</td>\n",
       "      <td>32.204208</td>\n",
       "    </tr>\n",
       "    <tr>\n",
       "      <th>std</th>\n",
       "      <td>257.353842</td>\n",
       "      <td>0.486592</td>\n",
       "      <td>0.836071</td>\n",
       "      <td>14.526497</td>\n",
       "      <td>1.102743</td>\n",
       "      <td>0.806057</td>\n",
       "      <td>49.693429</td>\n",
       "    </tr>\n",
       "    <tr>\n",
       "      <th>min</th>\n",
       "      <td>1.000000</td>\n",
       "      <td>0.000000</td>\n",
       "      <td>1.000000</td>\n",
       "      <td>0.420000</td>\n",
       "      <td>0.000000</td>\n",
       "      <td>0.000000</td>\n",
       "      <td>0.000000</td>\n",
       "    </tr>\n",
       "    <tr>\n",
       "      <th>25%</th>\n",
       "      <td>223.500000</td>\n",
       "      <td>0.000000</td>\n",
       "      <td>2.000000</td>\n",
       "      <td>20.125000</td>\n",
       "      <td>0.000000</td>\n",
       "      <td>0.000000</td>\n",
       "      <td>7.910400</td>\n",
       "    </tr>\n",
       "    <tr>\n",
       "      <th>50%</th>\n",
       "      <td>446.000000</td>\n",
       "      <td>0.000000</td>\n",
       "      <td>3.000000</td>\n",
       "      <td>28.000000</td>\n",
       "      <td>0.000000</td>\n",
       "      <td>0.000000</td>\n",
       "      <td>14.454200</td>\n",
       "    </tr>\n",
       "    <tr>\n",
       "      <th>75%</th>\n",
       "      <td>668.500000</td>\n",
       "      <td>1.000000</td>\n",
       "      <td>3.000000</td>\n",
       "      <td>38.000000</td>\n",
       "      <td>1.000000</td>\n",
       "      <td>0.000000</td>\n",
       "      <td>31.000000</td>\n",
       "    </tr>\n",
       "    <tr>\n",
       "      <th>max</th>\n",
       "      <td>891.000000</td>\n",
       "      <td>1.000000</td>\n",
       "      <td>3.000000</td>\n",
       "      <td>80.000000</td>\n",
       "      <td>8.000000</td>\n",
       "      <td>6.000000</td>\n",
       "      <td>512.329200</td>\n",
       "    </tr>\n",
       "  </tbody>\n",
       "</table>\n",
       "</div>"
      ],
      "text/plain": [
       "       PassengerId    Survived      Pclass         Age       SibSp  \\\n",
       "count   891.000000  891.000000  891.000000  714.000000  891.000000   \n",
       "mean    446.000000    0.383838    2.308642   29.699118    0.523008   \n",
       "std     257.353842    0.486592    0.836071   14.526497    1.102743   \n",
       "min       1.000000    0.000000    1.000000    0.420000    0.000000   \n",
       "25%     223.500000    0.000000    2.000000   20.125000    0.000000   \n",
       "50%     446.000000    0.000000    3.000000   28.000000    0.000000   \n",
       "75%     668.500000    1.000000    3.000000   38.000000    1.000000   \n",
       "max     891.000000    1.000000    3.000000   80.000000    8.000000   \n",
       "\n",
       "            Parch        Fare  \n",
       "count  891.000000  891.000000  \n",
       "mean     0.381594   32.204208  \n",
       "std      0.806057   49.693429  \n",
       "min      0.000000    0.000000  \n",
       "25%      0.000000    7.910400  \n",
       "50%      0.000000   14.454200  \n",
       "75%      0.000000   31.000000  \n",
       "max      6.000000  512.329200  "
      ]
     },
     "execution_count": 4,
     "metadata": {},
     "output_type": "execute_result"
    }
   ],
   "source": [
    "df_train.info()\n",
    "df_train.describe()#describe function can show many information like mean, min, max"
   ]
  },
  {
   "cell_type": "code",
   "execution_count": 5,
   "id": "8032d19c",
   "metadata": {
    "execution": {
     "iopub.execute_input": "2022-11-26T21:50:38.452845Z",
     "iopub.status.busy": "2022-11-26T21:50:38.452422Z",
     "iopub.status.idle": "2022-11-26T21:50:38.493615Z",
     "shell.execute_reply": "2022-11-26T21:50:38.492456Z"
    },
    "papermill": {
     "duration": 0.05913,
     "end_time": "2022-11-26T21:50:38.496040",
     "exception": false,
     "start_time": "2022-11-26T21:50:38.436910",
     "status": "completed"
    },
    "tags": []
   },
   "outputs": [
    {
     "name": "stdout",
     "output_type": "stream",
     "text": [
      "<class 'pandas.core.frame.DataFrame'>\n",
      "RangeIndex: 418 entries, 0 to 417\n",
      "Data columns (total 11 columns):\n",
      " #   Column       Non-Null Count  Dtype  \n",
      "---  ------       --------------  -----  \n",
      " 0   PassengerId  418 non-null    int64  \n",
      " 1   Pclass       418 non-null    int64  \n",
      " 2   Name         418 non-null    object \n",
      " 3   Sex          418 non-null    object \n",
      " 4   Age          332 non-null    float64\n",
      " 5   SibSp        418 non-null    int64  \n",
      " 6   Parch        418 non-null    int64  \n",
      " 7   Ticket       418 non-null    object \n",
      " 8   Fare         417 non-null    float64\n",
      " 9   Cabin        91 non-null     object \n",
      " 10  Embarked     418 non-null    object \n",
      "dtypes: float64(2), int64(4), object(5)\n",
      "memory usage: 36.0+ KB\n"
     ]
    },
    {
     "data": {
      "text/html": [
       "<div>\n",
       "<style scoped>\n",
       "    .dataframe tbody tr th:only-of-type {\n",
       "        vertical-align: middle;\n",
       "    }\n",
       "\n",
       "    .dataframe tbody tr th {\n",
       "        vertical-align: top;\n",
       "    }\n",
       "\n",
       "    .dataframe thead th {\n",
       "        text-align: right;\n",
       "    }\n",
       "</style>\n",
       "<table border=\"1\" class=\"dataframe\">\n",
       "  <thead>\n",
       "    <tr style=\"text-align: right;\">\n",
       "      <th></th>\n",
       "      <th>PassengerId</th>\n",
       "      <th>Pclass</th>\n",
       "      <th>Age</th>\n",
       "      <th>SibSp</th>\n",
       "      <th>Parch</th>\n",
       "      <th>Fare</th>\n",
       "    </tr>\n",
       "  </thead>\n",
       "  <tbody>\n",
       "    <tr>\n",
       "      <th>count</th>\n",
       "      <td>418.000000</td>\n",
       "      <td>418.000000</td>\n",
       "      <td>332.000000</td>\n",
       "      <td>418.000000</td>\n",
       "      <td>418.000000</td>\n",
       "      <td>417.000000</td>\n",
       "    </tr>\n",
       "    <tr>\n",
       "      <th>mean</th>\n",
       "      <td>1100.500000</td>\n",
       "      <td>2.265550</td>\n",
       "      <td>30.272590</td>\n",
       "      <td>0.447368</td>\n",
       "      <td>0.392344</td>\n",
       "      <td>35.627188</td>\n",
       "    </tr>\n",
       "    <tr>\n",
       "      <th>std</th>\n",
       "      <td>120.810458</td>\n",
       "      <td>0.841838</td>\n",
       "      <td>14.181209</td>\n",
       "      <td>0.896760</td>\n",
       "      <td>0.981429</td>\n",
       "      <td>55.907576</td>\n",
       "    </tr>\n",
       "    <tr>\n",
       "      <th>min</th>\n",
       "      <td>892.000000</td>\n",
       "      <td>1.000000</td>\n",
       "      <td>0.170000</td>\n",
       "      <td>0.000000</td>\n",
       "      <td>0.000000</td>\n",
       "      <td>0.000000</td>\n",
       "    </tr>\n",
       "    <tr>\n",
       "      <th>25%</th>\n",
       "      <td>996.250000</td>\n",
       "      <td>1.000000</td>\n",
       "      <td>21.000000</td>\n",
       "      <td>0.000000</td>\n",
       "      <td>0.000000</td>\n",
       "      <td>7.895800</td>\n",
       "    </tr>\n",
       "    <tr>\n",
       "      <th>50%</th>\n",
       "      <td>1100.500000</td>\n",
       "      <td>3.000000</td>\n",
       "      <td>27.000000</td>\n",
       "      <td>0.000000</td>\n",
       "      <td>0.000000</td>\n",
       "      <td>14.454200</td>\n",
       "    </tr>\n",
       "    <tr>\n",
       "      <th>75%</th>\n",
       "      <td>1204.750000</td>\n",
       "      <td>3.000000</td>\n",
       "      <td>39.000000</td>\n",
       "      <td>1.000000</td>\n",
       "      <td>0.000000</td>\n",
       "      <td>31.500000</td>\n",
       "    </tr>\n",
       "    <tr>\n",
       "      <th>max</th>\n",
       "      <td>1309.000000</td>\n",
       "      <td>3.000000</td>\n",
       "      <td>76.000000</td>\n",
       "      <td>8.000000</td>\n",
       "      <td>9.000000</td>\n",
       "      <td>512.329200</td>\n",
       "    </tr>\n",
       "  </tbody>\n",
       "</table>\n",
       "</div>"
      ],
      "text/plain": [
       "       PassengerId      Pclass         Age       SibSp       Parch        Fare\n",
       "count   418.000000  418.000000  332.000000  418.000000  418.000000  417.000000\n",
       "mean   1100.500000    2.265550   30.272590    0.447368    0.392344   35.627188\n",
       "std     120.810458    0.841838   14.181209    0.896760    0.981429   55.907576\n",
       "min     892.000000    1.000000    0.170000    0.000000    0.000000    0.000000\n",
       "25%     996.250000    1.000000   21.000000    0.000000    0.000000    7.895800\n",
       "50%    1100.500000    3.000000   27.000000    0.000000    0.000000   14.454200\n",
       "75%    1204.750000    3.000000   39.000000    1.000000    0.000000   31.500000\n",
       "max    1309.000000    3.000000   76.000000    8.000000    9.000000  512.329200"
      ]
     },
     "execution_count": 5,
     "metadata": {},
     "output_type": "execute_result"
    }
   ],
   "source": [
    "df_test.info()\n",
    "df_test.describe()#describe function can show many information like mean, min, max"
   ]
  },
  {
   "cell_type": "markdown",
   "id": "c531d59c",
   "metadata": {
    "papermill": {
     "duration": 0.014482,
     "end_time": "2022-11-26T21:50:38.524971",
     "exception": false,
     "start_time": "2022-11-26T21:50:38.510489",
     "status": "completed"
    },
    "tags": []
   },
   "source": [
    "# Filling the missing data"
   ]
  },
  {
   "cell_type": "markdown",
   "id": "a46f4098",
   "metadata": {
    "papermill": {
     "duration": 0.014212,
     "end_time": "2022-11-26T21:50:38.553975",
     "exception": false,
     "start_time": "2022-11-26T21:50:38.539763",
     "status": "completed"
    },
    "tags": []
   },
   "source": [
    "Blow section is deal with missing data\n",
    "\n",
    "Also we can see the Cabin missing too much value, so if we use any value replace it, it will make a a lot basis, so drop it maybe the best solution"
   ]
  },
  {
   "cell_type": "code",
   "execution_count": 6,
   "id": "c91d3b25",
   "metadata": {
    "execution": {
     "iopub.execute_input": "2022-11-26T21:50:38.585501Z",
     "iopub.status.busy": "2022-11-26T21:50:38.585069Z",
     "iopub.status.idle": "2022-11-26T21:50:38.590127Z",
     "shell.execute_reply": "2022-11-26T21:50:38.589288Z"
    },
    "papermill": {
     "duration": 0.023506,
     "end_time": "2022-11-26T21:50:38.592374",
     "exception": false,
     "start_time": "2022-11-26T21:50:38.568868",
     "status": "completed"
    },
    "tags": []
   },
   "outputs": [],
   "source": [
    "df_train_copy = df_train.copy(deep=True)\n",
    "df_test_copy = df_test.copy(deep=True)"
   ]
  },
  {
   "cell_type": "code",
   "execution_count": 7,
   "id": "98f2ba60",
   "metadata": {
    "execution": {
     "iopub.execute_input": "2022-11-26T21:50:38.627985Z",
     "iopub.status.busy": "2022-11-26T21:50:38.627587Z",
     "iopub.status.idle": "2022-11-26T21:50:38.642896Z",
     "shell.execute_reply": "2022-11-26T21:50:38.642074Z"
    },
    "papermill": {
     "duration": 0.037339,
     "end_time": "2022-11-26T21:50:38.645543",
     "exception": false,
     "start_time": "2022-11-26T21:50:38.608204",
     "status": "completed"
    },
    "tags": []
   },
   "outputs": [
    {
     "name": "stdout",
     "output_type": "stream",
     "text": [
      "<class 'pandas.core.frame.DataFrame'>\n",
      "RangeIndex: 891 entries, 0 to 890\n",
      "Data columns (total 11 columns):\n",
      " #   Column       Non-Null Count  Dtype  \n",
      "---  ------       --------------  -----  \n",
      " 0   PassengerId  891 non-null    int64  \n",
      " 1   Survived     891 non-null    int64  \n",
      " 2   Pclass       891 non-null    int64  \n",
      " 3   Name         891 non-null    object \n",
      " 4   Sex          891 non-null    object \n",
      " 5   Age          714 non-null    float64\n",
      " 6   SibSp        891 non-null    int64  \n",
      " 7   Parch        891 non-null    int64  \n",
      " 8   Ticket       891 non-null    object \n",
      " 9   Fare         891 non-null    float64\n",
      " 10  Embarked     889 non-null    object \n",
      "dtypes: float64(2), int64(5), object(4)\n",
      "memory usage: 76.7+ KB\n"
     ]
    }
   ],
   "source": [
    "df_train_copy.drop(columns=['Cabin'],axis=1,inplace=True)\n",
    "df_train_copy.info()"
   ]
  },
  {
   "cell_type": "code",
   "execution_count": 8,
   "id": "bb7d151b",
   "metadata": {
    "execution": {
     "iopub.execute_input": "2022-11-26T21:50:38.690232Z",
     "iopub.status.busy": "2022-11-26T21:50:38.689809Z",
     "iopub.status.idle": "2022-11-26T21:50:38.700531Z",
     "shell.execute_reply": "2022-11-26T21:50:38.698957Z"
    },
    "papermill": {
     "duration": 0.036154,
     "end_time": "2022-11-26T21:50:38.703164",
     "exception": false,
     "start_time": "2022-11-26T21:50:38.667010",
     "status": "completed"
    },
    "tags": []
   },
   "outputs": [],
   "source": [
    "#Next, we have to solve the Embarked\n",
    "df_train_copy[df_train_copy['Embarked'].isnull()]\n",
    "#And based on the search Miss. Amelie  and Mrs. George Nelson were both embarked at Southampton(https://www.encyclopedia-titanica.org/titanic-survivor/amelia-icard.html,\n",
    "#https://www.encyclopedia-titanica.org/titanic-survivor/martha-evelyn-stone.html), so it can fill in S easily\n",
    "df_train_copy.loc[df_train_copy['PassengerId']==62,'Embarked'] = 'S'\n",
    "df_train_copy.loc[df_train_copy['PassengerId']==830,'Embarked'] = 'S'"
   ]
  },
  {
   "cell_type": "code",
   "execution_count": 9,
   "id": "9a4ec9b4",
   "metadata": {
    "execution": {
     "iopub.execute_input": "2022-11-26T21:50:38.734290Z",
     "iopub.status.busy": "2022-11-26T21:50:38.733834Z",
     "iopub.status.idle": "2022-11-26T21:50:38.748490Z",
     "shell.execute_reply": "2022-11-26T21:50:38.747179Z"
    },
    "papermill": {
     "duration": 0.033774,
     "end_time": "2022-11-26T21:50:38.751694",
     "exception": false,
     "start_time": "2022-11-26T21:50:38.717920",
     "status": "completed"
    },
    "tags": []
   },
   "outputs": [
    {
     "name": "stdout",
     "output_type": "stream",
     "text": [
      "<class 'pandas.core.frame.DataFrame'>\n",
      "RangeIndex: 418 entries, 0 to 417\n",
      "Data columns (total 11 columns):\n",
      " #   Column       Non-Null Count  Dtype  \n",
      "---  ------       --------------  -----  \n",
      " 0   PassengerId  418 non-null    int64  \n",
      " 1   Pclass       418 non-null    int64  \n",
      " 2   Name         418 non-null    object \n",
      " 3   Sex          418 non-null    object \n",
      " 4   Age          332 non-null    float64\n",
      " 5   SibSp        418 non-null    int64  \n",
      " 6   Parch        418 non-null    int64  \n",
      " 7   Ticket       418 non-null    object \n",
      " 8   Fare         417 non-null    float64\n",
      " 9   Cabin        91 non-null     object \n",
      " 10  Embarked     418 non-null    object \n",
      "dtypes: float64(2), int64(4), object(5)\n",
      "memory usage: 36.0+ KB\n"
     ]
    }
   ],
   "source": [
    "df_test_copy.info()"
   ]
  },
  {
   "cell_type": "code",
   "execution_count": 10,
   "id": "6279851b",
   "metadata": {
    "execution": {
     "iopub.execute_input": "2022-11-26T21:50:38.783436Z",
     "iopub.status.busy": "2022-11-26T21:50:38.783006Z",
     "iopub.status.idle": "2022-11-26T21:50:38.813846Z",
     "shell.execute_reply": "2022-11-26T21:50:38.813039Z"
    },
    "papermill": {
     "duration": 0.049015,
     "end_time": "2022-11-26T21:50:38.816124",
     "exception": false,
     "start_time": "2022-11-26T21:50:38.767109",
     "status": "completed"
    },
    "tags": []
   },
   "outputs": [
    {
     "data": {
      "text/html": [
       "<div>\n",
       "<style scoped>\n",
       "    .dataframe tbody tr th:only-of-type {\n",
       "        vertical-align: middle;\n",
       "    }\n",
       "\n",
       "    .dataframe tbody tr th {\n",
       "        vertical-align: top;\n",
       "    }\n",
       "\n",
       "    .dataframe thead th {\n",
       "        text-align: right;\n",
       "    }\n",
       "</style>\n",
       "<table border=\"1\" class=\"dataframe\">\n",
       "  <thead>\n",
       "    <tr style=\"text-align: right;\">\n",
       "      <th></th>\n",
       "      <th>PassengerId</th>\n",
       "      <th>Pclass</th>\n",
       "      <th>Age</th>\n",
       "      <th>SibSp</th>\n",
       "      <th>Parch</th>\n",
       "      <th>Fare</th>\n",
       "    </tr>\n",
       "  </thead>\n",
       "  <tbody>\n",
       "    <tr>\n",
       "      <th>count</th>\n",
       "      <td>418.000000</td>\n",
       "      <td>418.000000</td>\n",
       "      <td>332.000000</td>\n",
       "      <td>418.000000</td>\n",
       "      <td>418.000000</td>\n",
       "      <td>417.000000</td>\n",
       "    </tr>\n",
       "    <tr>\n",
       "      <th>mean</th>\n",
       "      <td>1100.500000</td>\n",
       "      <td>2.265550</td>\n",
       "      <td>30.272590</td>\n",
       "      <td>0.447368</td>\n",
       "      <td>0.392344</td>\n",
       "      <td>35.627188</td>\n",
       "    </tr>\n",
       "    <tr>\n",
       "      <th>std</th>\n",
       "      <td>120.810458</td>\n",
       "      <td>0.841838</td>\n",
       "      <td>14.181209</td>\n",
       "      <td>0.896760</td>\n",
       "      <td>0.981429</td>\n",
       "      <td>55.907576</td>\n",
       "    </tr>\n",
       "    <tr>\n",
       "      <th>min</th>\n",
       "      <td>892.000000</td>\n",
       "      <td>1.000000</td>\n",
       "      <td>0.170000</td>\n",
       "      <td>0.000000</td>\n",
       "      <td>0.000000</td>\n",
       "      <td>0.000000</td>\n",
       "    </tr>\n",
       "    <tr>\n",
       "      <th>25%</th>\n",
       "      <td>996.250000</td>\n",
       "      <td>1.000000</td>\n",
       "      <td>21.000000</td>\n",
       "      <td>0.000000</td>\n",
       "      <td>0.000000</td>\n",
       "      <td>7.895800</td>\n",
       "    </tr>\n",
       "    <tr>\n",
       "      <th>50%</th>\n",
       "      <td>1100.500000</td>\n",
       "      <td>3.000000</td>\n",
       "      <td>27.000000</td>\n",
       "      <td>0.000000</td>\n",
       "      <td>0.000000</td>\n",
       "      <td>14.454200</td>\n",
       "    </tr>\n",
       "    <tr>\n",
       "      <th>75%</th>\n",
       "      <td>1204.750000</td>\n",
       "      <td>3.000000</td>\n",
       "      <td>39.000000</td>\n",
       "      <td>1.000000</td>\n",
       "      <td>0.000000</td>\n",
       "      <td>31.500000</td>\n",
       "    </tr>\n",
       "    <tr>\n",
       "      <th>max</th>\n",
       "      <td>1309.000000</td>\n",
       "      <td>3.000000</td>\n",
       "      <td>76.000000</td>\n",
       "      <td>8.000000</td>\n",
       "      <td>9.000000</td>\n",
       "      <td>512.329200</td>\n",
       "    </tr>\n",
       "  </tbody>\n",
       "</table>\n",
       "</div>"
      ],
      "text/plain": [
       "       PassengerId      Pclass         Age       SibSp       Parch        Fare\n",
       "count   418.000000  418.000000  332.000000  418.000000  418.000000  417.000000\n",
       "mean   1100.500000    2.265550   30.272590    0.447368    0.392344   35.627188\n",
       "std     120.810458    0.841838   14.181209    0.896760    0.981429   55.907576\n",
       "min     892.000000    1.000000    0.170000    0.000000    0.000000    0.000000\n",
       "25%     996.250000    1.000000   21.000000    0.000000    0.000000    7.895800\n",
       "50%    1100.500000    3.000000   27.000000    0.000000    0.000000   14.454200\n",
       "75%    1204.750000    3.000000   39.000000    1.000000    0.000000   31.500000\n",
       "max    1309.000000    3.000000   76.000000    8.000000    9.000000  512.329200"
      ]
     },
     "execution_count": 10,
     "metadata": {},
     "output_type": "execute_result"
    }
   ],
   "source": [
    "df_test_copy.describe()"
   ]
  },
  {
   "cell_type": "code",
   "execution_count": 11,
   "id": "651e3788",
   "metadata": {
    "execution": {
     "iopub.execute_input": "2022-11-26T21:50:38.849025Z",
     "iopub.status.busy": "2022-11-26T21:50:38.848387Z",
     "iopub.status.idle": "2022-11-26T21:50:38.873826Z",
     "shell.execute_reply": "2022-11-26T21:50:38.872600Z"
    },
    "papermill": {
     "duration": 0.045271,
     "end_time": "2022-11-26T21:50:38.876717",
     "exception": false,
     "start_time": "2022-11-26T21:50:38.831446",
     "status": "completed"
    },
    "tags": []
   },
   "outputs": [],
   "source": [
    "df_test_copy.drop(columns=['Cabin'],axis=1,inplace=True)\n",
    "#For now, because it only have one missing value,so I just fix in the median value for fare\n",
    "df_test_copy.loc[df_test_copy['PassengerId']==1044,'Fare']=df_test_copy.describe().loc['50%','Fare']"
   ]
  },
  {
   "cell_type": "code",
   "execution_count": 12,
   "id": "f5b5e768",
   "metadata": {
    "execution": {
     "iopub.execute_input": "2022-11-26T21:50:38.910004Z",
     "iopub.status.busy": "2022-11-26T21:50:38.909566Z",
     "iopub.status.idle": "2022-11-26T21:50:38.924312Z",
     "shell.execute_reply": "2022-11-26T21:50:38.923148Z"
    },
    "papermill": {
     "duration": 0.035224,
     "end_time": "2022-11-26T21:50:38.927672",
     "exception": false,
     "start_time": "2022-11-26T21:50:38.892448",
     "status": "completed"
    },
    "tags": []
   },
   "outputs": [
    {
     "name": "stdout",
     "output_type": "stream",
     "text": [
      "<class 'pandas.core.frame.DataFrame'>\n",
      "RangeIndex: 418 entries, 0 to 417\n",
      "Data columns (total 10 columns):\n",
      " #   Column       Non-Null Count  Dtype  \n",
      "---  ------       --------------  -----  \n",
      " 0   PassengerId  418 non-null    int64  \n",
      " 1   Pclass       418 non-null    int64  \n",
      " 2   Name         418 non-null    object \n",
      " 3   Sex          418 non-null    object \n",
      " 4   Age          332 non-null    float64\n",
      " 5   SibSp        418 non-null    int64  \n",
      " 6   Parch        418 non-null    int64  \n",
      " 7   Ticket       418 non-null    object \n",
      " 8   Fare         418 non-null    float64\n",
      " 9   Embarked     418 non-null    object \n",
      "dtypes: float64(2), int64(4), object(4)\n",
      "memory usage: 32.8+ KB\n"
     ]
    }
   ],
   "source": [
    "df_test_copy.info()#Right now, Only age have missing values"
   ]
  },
  {
   "cell_type": "markdown",
   "id": "eb7fd618",
   "metadata": {
    "papermill": {
     "duration": 0.014777,
     "end_time": "2022-11-26T21:50:38.958696",
     "exception": false,
     "start_time": "2022-11-26T21:50:38.943919",
     "status": "completed"
    },
    "tags": []
   },
   "source": [
    "# Try to use the groupby method in pandas make another way clean way and do the features engineering."
   ]
  },
  {
   "cell_type": "code",
   "execution_count": 13,
   "id": "ddc86799",
   "metadata": {
    "execution": {
     "iopub.execute_input": "2022-11-26T21:50:38.990920Z",
     "iopub.status.busy": "2022-11-26T21:50:38.990529Z",
     "iopub.status.idle": "2022-11-26T21:50:38.996116Z",
     "shell.execute_reply": "2022-11-26T21:50:38.994928Z"
    },
    "papermill": {
     "duration": 0.024797,
     "end_time": "2022-11-26T21:50:38.998725",
     "exception": false,
     "start_time": "2022-11-26T21:50:38.973928",
     "status": "completed"
    },
    "tags": []
   },
   "outputs": [],
   "source": [
    "df_train_copy2 = df_train_copy.copy(deep=True)"
   ]
  },
  {
   "cell_type": "code",
   "execution_count": 14,
   "id": "b27ddd93",
   "metadata": {
    "execution": {
     "iopub.execute_input": "2022-11-26T21:50:39.030814Z",
     "iopub.status.busy": "2022-11-26T21:50:39.029806Z",
     "iopub.status.idle": "2022-11-26T21:50:39.039914Z",
     "shell.execute_reply": "2022-11-26T21:50:39.038752Z"
    },
    "papermill": {
     "duration": 0.028321,
     "end_time": "2022-11-26T21:50:39.042015",
     "exception": false,
     "start_time": "2022-11-26T21:50:39.013694",
     "status": "completed"
    },
    "tags": []
   },
   "outputs": [
    {
     "data": {
      "text/plain": [
       "PassengerId      0\n",
       "Survived         0\n",
       "Pclass           0\n",
       "Name             0\n",
       "Sex              0\n",
       "Age            177\n",
       "SibSp            0\n",
       "Parch            0\n",
       "Ticket           0\n",
       "Fare             0\n",
       "Embarked         0\n",
       "dtype: int64"
      ]
     },
     "execution_count": 14,
     "metadata": {},
     "output_type": "execute_result"
    }
   ],
   "source": [
    "df_train_copy2.isnull().sum()"
   ]
  },
  {
   "cell_type": "code",
   "execution_count": 15,
   "id": "d81297ae",
   "metadata": {
    "execution": {
     "iopub.execute_input": "2022-11-26T21:50:39.075599Z",
     "iopub.status.busy": "2022-11-26T21:50:39.074440Z",
     "iopub.status.idle": "2022-11-26T21:50:39.085016Z",
     "shell.execute_reply": "2022-11-26T21:50:39.083786Z"
    },
    "papermill": {
     "duration": 0.029511,
     "end_time": "2022-11-26T21:50:39.087310",
     "exception": false,
     "start_time": "2022-11-26T21:50:39.057799",
     "status": "completed"
    },
    "tags": []
   },
   "outputs": [
    {
     "name": "stdout",
     "output_type": "stream",
     "text": [
      "The null instance in Age column: 177 , and it is the percentage of the total instances: 19.865319865319865 %\n",
      "The null instance in Cabin column: 687 , and it is the percentage of the total instances: 77.10437710437711 %\n",
      "The null instance in Embarked column: 2 , and it is the percentage of the total instances: 0.22446689113355783 %\n"
     ]
    }
   ],
   "source": [
    "print('The null instance in Age column:',sum(df_train['Age'].isnull()),', and it is the percentage of the total instances:',sum(df_train['Age'].isnull())/len(df_train)*100,'%')\n",
    "print('The null instance in Cabin column:',sum(df_train['Cabin'].isnull()),', and it is the percentage of the total instances:',sum(df_train['Cabin'].isnull())/len(df_train)*100,'%')\n",
    "print('The null instance in Embarked column:',sum(df_train['Embarked'].isnull()),', and it is the percentage of the total instances:',sum(df_train['Embarked'].isnull())/len(df_train)*100,'%')"
   ]
  },
  {
   "cell_type": "markdown",
   "id": "b0428de4",
   "metadata": {
    "papermill": {
     "duration": 0.015086,
     "end_time": "2022-11-26T21:50:39.117711",
     "exception": false,
     "start_time": "2022-11-26T21:50:39.102625",
     "status": "completed"
    },
    "tags": []
   },
   "source": [
    " The question is \n",
    "1. Have Pclass effect surived \n",
    "2. and have the age in different Pclass effect surived\n",
    "3. and have alone or not effect surived"
   ]
  },
  {
   "cell_type": "code",
   "execution_count": 16,
   "id": "39bf709d",
   "metadata": {
    "execution": {
     "iopub.execute_input": "2022-11-26T21:50:39.150314Z",
     "iopub.status.busy": "2022-11-26T21:50:39.149485Z",
     "iopub.status.idle": "2022-11-26T21:50:39.359661Z",
     "shell.execute_reply": "2022-11-26T21:50:39.357854Z"
    },
    "papermill": {
     "duration": 0.231341,
     "end_time": "2022-11-26T21:50:39.364405",
     "exception": false,
     "start_time": "2022-11-26T21:50:39.133064",
     "status": "completed"
    },
    "tags": []
   },
   "outputs": [
    {
     "data": {
      "text/plain": [
       "<AxesSubplot:title={'center':'The affect of different Pclass to the survived'}>"
      ]
     },
     "execution_count": 16,
     "metadata": {},
     "output_type": "execute_result"
    },
    {
     "data": {
      "image/png": "[encoded data removed]",
      "text/plain": [
       "<Figure size 432x288 with 1 Axes>"
      ]
     },
     "metadata": {},
     "output_type": "display_data"
    }
   ],
   "source": [
    "'''First let us plot the survived according to the different Pclass, then we can notice the Pclass 2 actually has smaller survied changes'''\n",
    "df_train_copy2.groupby('Pclass')['Survived'].sum().plot(kind='pie',labels=('Pclass=1','Pclass=2','Pclass=3'),ylabel='',autopct='%1.0f%%',explode=(0.05,0.05,0.05),title='The affect of different Pclass to the survived')"
   ]
  },
  {
   "cell_type": "code",
   "execution_count": 17,
   "id": "7462076c",
   "metadata": {
    "execution": {
     "iopub.execute_input": "2022-11-26T21:50:39.430067Z",
     "iopub.status.busy": "2022-11-26T21:50:39.429064Z",
     "iopub.status.idle": "2022-11-26T21:50:39.701652Z",
     "shell.execute_reply": "2022-11-26T21:50:39.700394Z"
    },
    "papermill": {
     "duration": 0.297876,
     "end_time": "2022-11-26T21:50:39.704411",
     "exception": false,
     "start_time": "2022-11-26T21:50:39.406535",
     "status": "completed"
    },
    "tags": []
   },
   "outputs": [
    {
     "data": {
      "image/png": "[encoded data removed]",
      "text/plain": [
       "<Figure size 432x288 with 1 Axes>"
      ]
     },
     "metadata": {
      "needs_background": "light"
     },
     "output_type": "display_data"
    }
   ],
   "source": [
    "df_train_copy2.groupby('Survived')['Age'].plot(kind='hist', alpha=0.4)\n",
    "plt.legend()\n",
    "plt.show()"
   ]
  },
  {
   "cell_type": "code",
   "execution_count": 18,
   "id": "c529a03a",
   "metadata": {
    "execution": {
     "iopub.execute_input": "2022-11-26T21:50:39.741533Z",
     "iopub.status.busy": "2022-11-26T21:50:39.739261Z",
     "iopub.status.idle": "2022-11-26T21:50:39.762541Z",
     "shell.execute_reply": "2022-11-26T21:50:39.761144Z"
    },
    "papermill": {
     "duration": 0.044033,
     "end_time": "2022-11-26T21:50:39.765175",
     "exception": false,
     "start_time": "2022-11-26T21:50:39.721142",
     "status": "completed"
    },
    "tags": []
   },
   "outputs": [
    {
     "name": "stdout",
     "output_type": "stream",
     "text": [
      "Pclass\n",
      "1    37.0\n",
      "2    29.0\n",
      "3    24.0\n",
      "Name: Age, dtype: float64\n",
      "37.0\n",
      "29.0\n",
      "24.0\n"
     ]
    }
   ],
   "source": [
    "'''The try to explore Pclass and age affect the survied change or not, but still the age columns still have the outliers like the missing value, so it will affect the mean value of the data, so if we fill in the mean to \n",
    "   the missing value cell, it could be cause the bias, so the median value of the percific Pclass could be the better choose to fill in.'''\n",
    "median_frame = df_train_copy2.groupby('Pclass')['Age'].median()\n",
    "print(median_frame)\n",
    "print(median_frame.iloc[0])\n",
    "print(median_frame.iloc[1])\n",
    "print(median_frame.iloc[2])\n",
    "Pclass1_empty_example = df_train_copy2[df_train_copy2['Pclass']==1 & df_train_copy2['Age'].isnull()]\n",
    "#print(Pclass1_empty_example)\n",
    "\n",
    "#fill in all the empty age according the Pclass\n",
    "df_train_copy2['Age'] = df_train_copy2.groupby(['Pclass'])['Age'].apply(lambda x:x.fillna(x.median()))\n",
    "df_test_copy['Age'] = df_train_copy2.groupby(['Pclass'])['Age'].apply(lambda x:x.fillna(x.median()))"
   ]
  },
  {
   "cell_type": "code",
   "execution_count": 19,
   "id": "41ec9d61",
   "metadata": {
    "execution": {
     "iopub.execute_input": "2022-11-26T21:50:39.799253Z",
     "iopub.status.busy": "2022-11-26T21:50:39.798797Z",
     "iopub.status.idle": "2022-11-26T21:50:40.040543Z",
     "shell.execute_reply": "2022-11-26T21:50:40.039109Z"
    },
    "papermill": {
     "duration": 0.262581,
     "end_time": "2022-11-26T21:50:40.043758",
     "exception": false,
     "start_time": "2022-11-26T21:50:39.781177",
     "status": "completed"
    },
    "tags": []
   },
   "outputs": [
    {
     "data": {
      "image/png": "[encoded data removed]",
      "text/plain": [
       "<Figure size 432x288 with 1 Axes>"
      ]
     },
     "metadata": {
      "needs_background": "light"
     },
     "output_type": "display_data"
    }
   ],
   "source": [
    "'''Then let see in the different Pclass different age will affect the survied change or not.'''\n",
    "#First I have to chunk the age into range of 10 e.g. 7->10 6->10\n",
    "df_train_copy2['Age_Level'] = pd.cut(df_train_copy2['Age'], bins=[0,10,20,30,40,50,60,70,80,90,100], labels=[10,20,30,40,50,60,70,80,90,100], right=False)\n",
    "df_train_copy2.groupby(['Pclass','Age_Level'])['Survived'].sum()\n",
    "y = []\n",
    "y=df_train_copy2['Age_Level'].value_counts()\n",
    "df_train_copy2.groupby('Age_Level')['Survived'].sum().plot(kind = 'hist',y=(0,101,10))\n",
    "plt.show()"
   ]
  },
  {
   "cell_type": "code",
   "execution_count": 20,
   "id": "82bb2126",
   "metadata": {
    "execution": {
     "iopub.execute_input": "2022-11-26T21:50:40.079769Z",
     "iopub.status.busy": "2022-11-26T21:50:40.079338Z",
     "iopub.status.idle": "2022-11-26T21:50:40.090418Z",
     "shell.execute_reply": "2022-11-26T21:50:40.088554Z"
    },
    "papermill": {
     "duration": 0.032312,
     "end_time": "2022-11-26T21:50:40.093249",
     "exception": false,
     "start_time": "2022-11-26T21:50:40.060937",
     "status": "completed"
    },
    "tags": []
   },
   "outputs": [
    {
     "name": "stdout",
     "output_type": "stream",
     "text": [
      "80\n"
     ]
    }
   ],
   "source": [
    "df_test_copy['Age_Level'] = pd.cut(df_test_copy['Age'], bins=[0,10,20,30,40,50,60,70,80,90,100], labels=[10,20,30,40,50,60,70,80,90,100], right=False)\n",
    "print(df_test_copy['Age_Level'].max())"
   ]
  },
  {
   "cell_type": "markdown",
   "id": "f749bee8",
   "metadata": {
    "papermill": {
     "duration": 0.017014,
     "end_time": "2022-11-26T21:50:40.126770",
     "exception": false,
     "start_time": "2022-11-26T21:50:40.109756",
     "status": "completed"
    },
    "tags": []
   },
   "source": [
    "# Corrleation"
   ]
  },
  {
   "cell_type": "code",
   "execution_count": 21,
   "id": "2099dd49",
   "metadata": {
    "execution": {
     "iopub.execute_input": "2022-11-26T21:50:40.162653Z",
     "iopub.status.busy": "2022-11-26T21:50:40.162230Z",
     "iopub.status.idle": "2022-11-26T21:50:40.372907Z",
     "shell.execute_reply": "2022-11-26T21:50:40.371766Z"
    },
    "papermill": {
     "duration": 0.232023,
     "end_time": "2022-11-26T21:50:40.375832",
     "exception": false,
     "start_time": "2022-11-26T21:50:40.143809",
     "status": "completed"
    },
    "tags": []
   },
   "outputs": [
    {
     "data": {
      "image/png": "[encoded data removed]",
      "text/plain": [
       "<Figure size 720x432 with 1 Axes>"
      ]
     },
     "metadata": {
      "needs_background": "light"
     },
     "output_type": "display_data"
    }
   ],
   "source": [
    "Corrleation_matrix = df_train_copy2.corr()\n",
    "scatter_x = ['PassengerId',  'Survived',  'Pclass',     'Age',   'SibSp',   'Parch',    'Fare']\n",
    "fig, ax = plt.subplots(figsize=(10, 6))\n",
    "ax.scatter(scatter_x,Corrleation_matrix.iloc[1,:])\n",
    "plt.show()"
   ]
  },
  {
   "cell_type": "markdown",
   "id": "406ec99b",
   "metadata": {
    "papermill": {
     "duration": 0.016024,
     "end_time": "2022-11-26T21:50:40.410254",
     "exception": false,
     "start_time": "2022-11-26T21:50:40.394230",
     "status": "completed"
    },
    "tags": []
   },
   "source": [
    "# Title cleaning and feature engineering"
   ]
  },
  {
   "cell_type": "code",
   "execution_count": 22,
   "id": "3396f505",
   "metadata": {
    "execution": {
     "iopub.execute_input": "2022-11-26T21:50:40.445556Z",
     "iopub.status.busy": "2022-11-26T21:50:40.444398Z",
     "iopub.status.idle": "2022-11-26T21:50:40.449434Z",
     "shell.execute_reply": "2022-11-26T21:50:40.448518Z"
    },
    "papermill": {
     "duration": 0.025007,
     "end_time": "2022-11-26T21:50:40.451743",
     "exception": false,
     "start_time": "2022-11-26T21:50:40.426736",
     "status": "completed"
    },
    "tags": []
   },
   "outputs": [],
   "source": [
    "import re"
   ]
  },
  {
   "cell_type": "code",
   "execution_count": 23,
   "id": "f0204e1a",
   "metadata": {
    "execution": {
     "iopub.execute_input": "2022-11-26T21:50:40.488489Z",
     "iopub.status.busy": "2022-11-26T21:50:40.487762Z",
     "iopub.status.idle": "2022-11-26T21:50:40.505142Z",
     "shell.execute_reply": "2022-11-26T21:50:40.504179Z"
    },
    "papermill": {
     "duration": 0.038296,
     "end_time": "2022-11-26T21:50:40.507527",
     "exception": false,
     "start_time": "2022-11-26T21:50:40.469231",
     "status": "completed"
    },
    "tags": []
   },
   "outputs": [
    {
     "data": {
      "text/plain": [
       "0                     Mr\n",
       "1               Miss/Mrs\n",
       "2               Miss/Mrs\n",
       "3               Miss/Mrs\n",
       "4                     Mr\n",
       "             ...        \n",
       "886    Dr/major/Military\n",
       "887             Miss/Mrs\n",
       "888             Miss/Mrs\n",
       "889                   Mr\n",
       "890                   Mr\n",
       "Name: Title, Length: 891, dtype: object"
      ]
     },
     "execution_count": 23,
     "metadata": {},
     "output_type": "execute_result"
    }
   ],
   "source": [
    "#Next deal with the title in training data set\n",
    "second_part_of_name = df_train_copy2['Name'].str.split(',',1)\n",
    "second_part_of_name\n",
    "title_list = []\n",
    "for text in df_train_copy2['Name']:\n",
    "  second_part = text.split(',',1)[1]\n",
    "  the_title = second_part.split('.',1)[0]\n",
    "  the_title = the_title.strip()\n",
    "  title_list.append(the_title)\n",
    "\n",
    "df_train_copy2['Title'] = title_list\n",
    "#after is replace miss, mrs, ms... to miss/mrs\n",
    "df_train_copy2['Title'] = df_train_copy2['Title'].replace(['Miss', 'Mrs','Ms', 'Mlle', 'Lady', 'Mme', 'the Countess', 'Dona'], 'Miss/Mrs')\n",
    "#replace dr,col,major... to dr/major/military\n",
    "df_train_copy2['Title'] = df_train_copy2['Title'].replace(['Dr', 'Col', 'Major', 'Jonkheer', 'Capt', 'Sir', 'Don', 'Rev'], 'Dr/major/Military')\n",
    "df_train_copy2['Title']"
   ]
  },
  {
   "cell_type": "code",
   "execution_count": 24,
   "id": "439288a3",
   "metadata": {
    "execution": {
     "iopub.execute_input": "2022-11-26T21:50:40.542325Z",
     "iopub.status.busy": "2022-11-26T21:50:40.541886Z",
     "iopub.status.idle": "2022-11-26T21:50:40.559473Z",
     "shell.execute_reply": "2022-11-26T21:50:40.558379Z"
    },
    "papermill": {
     "duration": 0.037879,
     "end_time": "2022-11-26T21:50:40.561855",
     "exception": false,
     "start_time": "2022-11-26T21:50:40.523976",
     "status": "completed"
    },
    "tags": []
   },
   "outputs": [
    {
     "data": {
      "text/plain": [
       "0            Mr\n",
       "1      Miss/Mrs\n",
       "2            Mr\n",
       "3            Mr\n",
       "4      Miss/Mrs\n",
       "         ...   \n",
       "413          Mr\n",
       "414    Miss/Mrs\n",
       "415          Mr\n",
       "416          Mr\n",
       "417      Master\n",
       "Name: Title, Length: 418, dtype: object"
      ]
     },
     "execution_count": 24,
     "metadata": {},
     "output_type": "execute_result"
    }
   ],
   "source": [
    "#Next deal with the title in testing data set\n",
    "second_part_of_name = df_test_copy['Name'].str.split(',',1)\n",
    "second_part_of_name\n",
    "title_list = []\n",
    "for text in df_test_copy['Name']:\n",
    "  second_part = text.split(',',1)[1]\n",
    "  the_title = second_part.split('.',1)[0]\n",
    "  the_title = the_title.strip()\n",
    "  title_list.append(the_title)\n",
    "\n",
    "df_test_copy['Title'] = title_list\n",
    "#after is replace miss, mrs, ms... to miss/mrs\n",
    "df_test_copy['Title'] = df_test_copy['Title'].replace(['Miss', 'Mrs','Ms', 'Mlle', 'Lady', 'Mme', 'the Countess', 'Dona'], 'Miss/Mrs')\n",
    "#replace dr,col,major... to dr/major/military\n",
    "df_test_copy['Title'] = df_test_copy['Title'].replace(['Dr', 'Col', 'Major', 'Jonkheer', 'Capt', 'Sir', 'Don', 'Rev'], 'Dr/major/Military')\n",
    "df_test_copy['Title']"
   ]
  },
  {
   "cell_type": "markdown",
   "id": "b1c0a57b",
   "metadata": {
    "papermill": {
     "duration": 0.017147,
     "end_time": "2022-11-26T21:50:40.595713",
     "exception": false,
     "start_time": "2022-11-26T21:50:40.578566",
     "status": "completed"
    },
    "tags": []
   },
   "source": [
    "# Normalize the fare column:"
   ]
  },
  {
   "cell_type": "code",
   "execution_count": 25,
   "id": "9ac3de8d",
   "metadata": {
    "execution": {
     "iopub.execute_input": "2022-11-26T21:50:40.632280Z",
     "iopub.status.busy": "2022-11-26T21:50:40.631190Z",
     "iopub.status.idle": "2022-11-26T21:50:40.870685Z",
     "shell.execute_reply": "2022-11-26T21:50:40.868689Z"
    },
    "papermill": {
     "duration": 0.260994,
     "end_time": "2022-11-26T21:50:40.873431",
     "exception": false,
     "start_time": "2022-11-26T21:50:40.612437",
     "status": "completed"
    },
    "tags": []
   },
   "outputs": [
    {
     "data": {
      "text/plain": [
       "<AxesSubplot:ylabel='Frequency'>"
      ]
     },
     "execution_count": 25,
     "metadata": {},
     "output_type": "execute_result"
    },
    {
     "data": {
      "image/png": "[encoded data removed]",
      "text/plain": [
       "<Figure size 432x288 with 1 Axes>"
      ]
     },
     "metadata": {
      "needs_background": "light"
     },
     "output_type": "display_data"
    }
   ],
   "source": [
    "df_train_copy2['Fare'].plot(kind='hist')"
   ]
  },
  {
   "cell_type": "code",
   "execution_count": 26,
   "id": "68183db1",
   "metadata": {
    "execution": {
     "iopub.execute_input": "2022-11-26T21:50:40.912341Z",
     "iopub.status.busy": "2022-11-26T21:50:40.909961Z",
     "iopub.status.idle": "2022-11-26T21:50:41.220160Z",
     "shell.execute_reply": "2022-11-26T21:50:41.218709Z"
    },
    "papermill": {
     "duration": 0.332067,
     "end_time": "2022-11-26T21:50:41.222735",
     "exception": false,
     "start_time": "2022-11-26T21:50:40.890668",
     "status": "completed"
    },
    "tags": []
   },
   "outputs": [
    {
     "data": {
      "text/plain": [
       "<function matplotlib.pyplot.show(close=None, block=None)>"
      ]
     },
     "execution_count": 26,
     "metadata": {},
     "output_type": "execute_result"
    },
    {
     "data": {
      "image/png": "[encoded data removed]",
      "text/plain": [
       "<Figure size 1440x720 with 1 Axes>"
      ]
     },
     "metadata": {
      "needs_background": "light"
     },
     "output_type": "display_data"
    }
   ],
   "source": [
    "f, ax = plt.subplots(figsize=(20,10))\n",
    "sns.violinplot(x='Survived',y='Fare', data=df_train_copy2, split=True, ax=ax, title = 'Fare affect Surived', y_ticks=(range(0,101,10)))\n",
    "plt.show"
   ]
  },
  {
   "cell_type": "code",
   "execution_count": 27,
   "id": "a480d696",
   "metadata": {
    "execution": {
     "iopub.execute_input": "2022-11-26T21:50:41.260646Z",
     "iopub.status.busy": "2022-11-26T21:50:41.260176Z",
     "iopub.status.idle": "2022-11-26T21:50:41.269315Z",
     "shell.execute_reply": "2022-11-26T21:50:41.268151Z"
    },
    "papermill": {
     "duration": 0.030908,
     "end_time": "2022-11-26T21:50:41.271700",
     "exception": false,
     "start_time": "2022-11-26T21:50:41.240792",
     "status": "completed"
    },
    "tags": []
   },
   "outputs": [],
   "source": [
    "#training data set\n",
    "scaler = StandardScaler()\n",
    "fare_standard = scaler.fit_transform(df_train_copy2['Fare'].values.reshape(-1,1))\n",
    "df_train_copy2['Fare'] = fare_standard\n",
    "#testing data set\n",
    "scaler = StandardScaler()\n",
    "fare_standard = scaler.fit_transform(df_test_copy['Fare'].values.reshape(-1,1))\n",
    "df_test_copy['Fare'] = fare_standard"
   ]
  },
  {
   "cell_type": "markdown",
   "id": "4b1384fb",
   "metadata": {
    "papermill": {
     "duration": 0.017515,
     "end_time": "2022-11-26T21:50:41.307215",
     "exception": false,
     "start_time": "2022-11-26T21:50:41.289700",
     "status": "completed"
    },
    "tags": []
   },
   "source": [
    "# IsAlone clearning:"
   ]
  },
  {
   "cell_type": "code",
   "execution_count": 28,
   "id": "778a7149",
   "metadata": {
    "execution": {
     "iopub.execute_input": "2022-11-26T21:50:41.344885Z",
     "iopub.status.busy": "2022-11-26T21:50:41.344434Z",
     "iopub.status.idle": "2022-11-26T21:50:41.476044Z",
     "shell.execute_reply": "2022-11-26T21:50:41.474803Z"
    },
    "papermill": {
     "duration": 0.153677,
     "end_time": "2022-11-26T21:50:41.478692",
     "exception": false,
     "start_time": "2022-11-26T21:50:41.325015",
     "status": "completed"
    },
    "tags": []
   },
   "outputs": [
    {
     "data": {
      "text/plain": [
       "Survived  IsAlone\n",
       "0         1          374\n",
       "          0          175\n",
       "1         0          179\n",
       "          1          163\n",
       "Name: IsAlone, dtype: int64"
      ]
     },
     "execution_count": 28,
     "metadata": {},
     "output_type": "execute_result"
    }
   ],
   "source": [
    "#Alone or not, if the sibsp plus parch is greater than 0, the isAlone will be equal to 0\n",
    "df_train_copy2['IsAlone'] = df_train_copy2['SibSp']+df_train_copy2['Parch']\n",
    "#print(len(df_train_copy2['Alone']))\n",
    "for index in range(len(df_train_copy2['IsAlone'])):\n",
    "  if df_train_copy2['IsAlone'].iloc[index] >0:\n",
    "    df_train_copy2['IsAlone'].iloc[index] = 0\n",
    "  else:\n",
    "    df_train_copy2['IsAlone'].iloc[index] = 1\n",
    "df_train_copy2.groupby(['Survived'])['IsAlone'].value_counts()"
   ]
  },
  {
   "cell_type": "code",
   "execution_count": 29,
   "id": "80bc6927",
   "metadata": {
    "execution": {
     "iopub.execute_input": "2022-11-26T21:50:41.516428Z",
     "iopub.status.busy": "2022-11-26T21:50:41.515960Z",
     "iopub.status.idle": "2022-11-26T21:50:41.584442Z",
     "shell.execute_reply": "2022-11-26T21:50:41.583340Z"
    },
    "papermill": {
     "duration": 0.090397,
     "end_time": "2022-11-26T21:50:41.586958",
     "exception": false,
     "start_time": "2022-11-26T21:50:41.496561",
     "status": "completed"
    },
    "tags": []
   },
   "outputs": [],
   "source": [
    "df_test_copy['IsAlone'] = df_test_copy['SibSp']+df_test_copy['Parch']\n",
    "#print(len(df_train_copy2['Alone']))\n",
    "for index in range(len(df_test_copy['IsAlone'])):\n",
    "  if df_test_copy['IsAlone'].iloc[index] >0:\n",
    "    df_test_copy['IsAlone'].iloc[index] = 0\n",
    "  else:\n",
    "    df_test_copy['IsAlone'].iloc[index] = 1"
   ]
  },
  {
   "cell_type": "markdown",
   "id": "fa93d59c",
   "metadata": {
    "papermill": {
     "duration": 0.017514,
     "end_time": "2022-11-26T21:50:41.622473",
     "exception": false,
     "start_time": "2022-11-26T21:50:41.604959",
     "status": "completed"
    },
    "tags": []
   },
   "source": [
    "# Model training and evaluation"
   ]
  },
  {
   "cell_type": "code",
   "execution_count": 30,
   "id": "b81dbba0",
   "metadata": {
    "execution": {
     "iopub.execute_input": "2022-11-26T21:50:41.663692Z",
     "iopub.status.busy": "2022-11-26T21:50:41.662822Z",
     "iopub.status.idle": "2022-11-26T21:50:41.690683Z",
     "shell.execute_reply": "2022-11-26T21:50:41.689546Z"
    },
    "papermill": {
     "duration": 0.052566,
     "end_time": "2022-11-26T21:50:41.693334",
     "exception": false,
     "start_time": "2022-11-26T21:50:41.640768",
     "status": "completed"
    },
    "tags": []
   },
   "outputs": [
    {
     "data": {
      "text/html": [
       "<div>\n",
       "<style scoped>\n",
       "    .dataframe tbody tr th:only-of-type {\n",
       "        vertical-align: middle;\n",
       "    }\n",
       "\n",
       "    .dataframe tbody tr th {\n",
       "        vertical-align: top;\n",
       "    }\n",
       "\n",
       "    .dataframe thead th {\n",
       "        text-align: right;\n",
       "    }\n",
       "</style>\n",
       "<table border=\"1\" class=\"dataframe\">\n",
       "  <thead>\n",
       "    <tr style=\"text-align: right;\">\n",
       "      <th></th>\n",
       "      <th>PassengerId</th>\n",
       "      <th>Survived</th>\n",
       "      <th>Pclass</th>\n",
       "      <th>Name</th>\n",
       "      <th>Sex</th>\n",
       "      <th>Age</th>\n",
       "      <th>SibSp</th>\n",
       "      <th>Parch</th>\n",
       "      <th>Ticket</th>\n",
       "      <th>Fare</th>\n",
       "      <th>Embarked</th>\n",
       "      <th>Age_Level</th>\n",
       "      <th>Title</th>\n",
       "      <th>IsAlone</th>\n",
       "    </tr>\n",
       "  </thead>\n",
       "  <tbody>\n",
       "    <tr>\n",
       "      <th>0</th>\n",
       "      <td>1</td>\n",
       "      <td>0</td>\n",
       "      <td>3</td>\n",
       "      <td>Braund, Mr. Owen Harris</td>\n",
       "      <td>male</td>\n",
       "      <td>22.0</td>\n",
       "      <td>1</td>\n",
       "      <td>0</td>\n",
       "      <td>A/5 21171</td>\n",
       "      <td>-0.502445</td>\n",
       "      <td>S</td>\n",
       "      <td>30</td>\n",
       "      <td>Mr</td>\n",
       "      <td>0</td>\n",
       "    </tr>\n",
       "    <tr>\n",
       "      <th>1</th>\n",
       "      <td>2</td>\n",
       "      <td>1</td>\n",
       "      <td>1</td>\n",
       "      <td>Cumings, Mrs. John Bradley (Florence Briggs Th...</td>\n",
       "      <td>female</td>\n",
       "      <td>38.0</td>\n",
       "      <td>1</td>\n",
       "      <td>0</td>\n",
       "      <td>PC 17599</td>\n",
       "      <td>0.786845</td>\n",
       "      <td>C</td>\n",
       "      <td>40</td>\n",
       "      <td>Miss/Mrs</td>\n",
       "      <td>0</td>\n",
       "    </tr>\n",
       "    <tr>\n",
       "      <th>2</th>\n",
       "      <td>3</td>\n",
       "      <td>1</td>\n",
       "      <td>3</td>\n",
       "      <td>Heikkinen, Miss. Laina</td>\n",
       "      <td>female</td>\n",
       "      <td>26.0</td>\n",
       "      <td>0</td>\n",
       "      <td>0</td>\n",
       "      <td>STON/O2. 3101282</td>\n",
       "      <td>-0.488854</td>\n",
       "      <td>S</td>\n",
       "      <td>30</td>\n",
       "      <td>Miss/Mrs</td>\n",
       "      <td>1</td>\n",
       "    </tr>\n",
       "    <tr>\n",
       "      <th>3</th>\n",
       "      <td>4</td>\n",
       "      <td>1</td>\n",
       "      <td>1</td>\n",
       "      <td>Futrelle, Mrs. Jacques Heath (Lily May Peel)</td>\n",
       "      <td>female</td>\n",
       "      <td>35.0</td>\n",
       "      <td>1</td>\n",
       "      <td>0</td>\n",
       "      <td>113803</td>\n",
       "      <td>0.420730</td>\n",
       "      <td>S</td>\n",
       "      <td>40</td>\n",
       "      <td>Miss/Mrs</td>\n",
       "      <td>0</td>\n",
       "    </tr>\n",
       "    <tr>\n",
       "      <th>4</th>\n",
       "      <td>5</td>\n",
       "      <td>0</td>\n",
       "      <td>3</td>\n",
       "      <td>Allen, Mr. William Henry</td>\n",
       "      <td>male</td>\n",
       "      <td>35.0</td>\n",
       "      <td>0</td>\n",
       "      <td>0</td>\n",
       "      <td>373450</td>\n",
       "      <td>-0.486337</td>\n",
       "      <td>S</td>\n",
       "      <td>40</td>\n",
       "      <td>Mr</td>\n",
       "      <td>1</td>\n",
       "    </tr>\n",
       "    <tr>\n",
       "      <th>...</th>\n",
       "      <td>...</td>\n",
       "      <td>...</td>\n",
       "      <td>...</td>\n",
       "      <td>...</td>\n",
       "      <td>...</td>\n",
       "      <td>...</td>\n",
       "      <td>...</td>\n",
       "      <td>...</td>\n",
       "      <td>...</td>\n",
       "      <td>...</td>\n",
       "      <td>...</td>\n",
       "      <td>...</td>\n",
       "      <td>...</td>\n",
       "      <td>...</td>\n",
       "    </tr>\n",
       "    <tr>\n",
       "      <th>886</th>\n",
       "      <td>887</td>\n",
       "      <td>0</td>\n",
       "      <td>2</td>\n",
       "      <td>Montvila, Rev. Juozas</td>\n",
       "      <td>male</td>\n",
       "      <td>27.0</td>\n",
       "      <td>0</td>\n",
       "      <td>0</td>\n",
       "      <td>211536</td>\n",
       "      <td>-0.386671</td>\n",
       "      <td>S</td>\n",
       "      <td>30</td>\n",
       "      <td>Dr/major/Military</td>\n",
       "      <td>1</td>\n",
       "    </tr>\n",
       "    <tr>\n",
       "      <th>887</th>\n",
       "      <td>888</td>\n",
       "      <td>1</td>\n",
       "      <td>1</td>\n",
       "      <td>Graham, Miss. Margaret Edith</td>\n",
       "      <td>female</td>\n",
       "      <td>19.0</td>\n",
       "      <td>0</td>\n",
       "      <td>0</td>\n",
       "      <td>112053</td>\n",
       "      <td>-0.044381</td>\n",
       "      <td>S</td>\n",
       "      <td>20</td>\n",
       "      <td>Miss/Mrs</td>\n",
       "      <td>1</td>\n",
       "    </tr>\n",
       "    <tr>\n",
       "      <th>888</th>\n",
       "      <td>889</td>\n",
       "      <td>0</td>\n",
       "      <td>3</td>\n",
       "      <td>Johnston, Miss. Catherine Helen \"Carrie\"</td>\n",
       "      <td>female</td>\n",
       "      <td>24.0</td>\n",
       "      <td>1</td>\n",
       "      <td>2</td>\n",
       "      <td>W./C. 6607</td>\n",
       "      <td>-0.176263</td>\n",
       "      <td>S</td>\n",
       "      <td>30</td>\n",
       "      <td>Miss/Mrs</td>\n",
       "      <td>0</td>\n",
       "    </tr>\n",
       "    <tr>\n",
       "      <th>889</th>\n",
       "      <td>890</td>\n",
       "      <td>1</td>\n",
       "      <td>1</td>\n",
       "      <td>Behr, Mr. Karl Howell</td>\n",
       "      <td>male</td>\n",
       "      <td>26.0</td>\n",
       "      <td>0</td>\n",
       "      <td>0</td>\n",
       "      <td>111369</td>\n",
       "      <td>-0.044381</td>\n",
       "      <td>C</td>\n",
       "      <td>30</td>\n",
       "      <td>Mr</td>\n",
       "      <td>1</td>\n",
       "    </tr>\n",
       "    <tr>\n",
       "      <th>890</th>\n",
       "      <td>891</td>\n",
       "      <td>0</td>\n",
       "      <td>3</td>\n",
       "      <td>Dooley, Mr. Patrick</td>\n",
       "      <td>male</td>\n",
       "      <td>32.0</td>\n",
       "      <td>0</td>\n",
       "      <td>0</td>\n",
       "      <td>370376</td>\n",
       "      <td>-0.492378</td>\n",
       "      <td>Q</td>\n",
       "      <td>40</td>\n",
       "      <td>Mr</td>\n",
       "      <td>1</td>\n",
       "    </tr>\n",
       "  </tbody>\n",
       "</table>\n",
       "<p>891 rows × 14 columns</p>\n",
       "</div>"
      ],
      "text/plain": [
       "     PassengerId  Survived  Pclass  \\\n",
       "0              1         0       3   \n",
       "1              2         1       1   \n",
       "2              3         1       3   \n",
       "3              4         1       1   \n",
       "4              5         0       3   \n",
       "..           ...       ...     ...   \n",
       "886          887         0       2   \n",
       "887          888         1       1   \n",
       "888          889         0       3   \n",
       "889          890         1       1   \n",
       "890          891         0       3   \n",
       "\n",
       "                                                  Name     Sex   Age  SibSp  \\\n",
       "0                              Braund, Mr. Owen Harris    male  22.0      1   \n",
       "1    Cumings, Mrs. John Bradley (Florence Briggs Th...  female  38.0      1   \n",
       "2                               Heikkinen, Miss. Laina  female  26.0      0   \n",
       "3         Futrelle, Mrs. Jacques Heath (Lily May Peel)  female  35.0      1   \n",
       "4                             Allen, Mr. William Henry    male  35.0      0   \n",
       "..                                                 ...     ...   ...    ...   \n",
       "886                              Montvila, Rev. Juozas    male  27.0      0   \n",
       "887                       Graham, Miss. Margaret Edith  female  19.0      0   \n",
       "888           Johnston, Miss. Catherine Helen \"Carrie\"  female  24.0      1   \n",
       "889                              Behr, Mr. Karl Howell    male  26.0      0   \n",
       "890                                Dooley, Mr. Patrick    male  32.0      0   \n",
       "\n",
       "     Parch            Ticket      Fare Embarked Age_Level              Title  \\\n",
       "0        0         A/5 21171 -0.502445        S        30                 Mr   \n",
       "1        0          PC 17599  0.786845        C        40           Miss/Mrs   \n",
       "2        0  STON/O2. 3101282 -0.488854        S        30           Miss/Mrs   \n",
       "3        0            113803  0.420730        S        40           Miss/Mrs   \n",
       "4        0            373450 -0.486337        S        40                 Mr   \n",
       "..     ...               ...       ...      ...       ...                ...   \n",
       "886      0            211536 -0.386671        S        30  Dr/major/Military   \n",
       "887      0            112053 -0.044381        S        20           Miss/Mrs   \n",
       "888      2        W./C. 6607 -0.176263        S        30           Miss/Mrs   \n",
       "889      0            111369 -0.044381        C        30                 Mr   \n",
       "890      0            370376 -0.492378        Q        40                 Mr   \n",
       "\n",
       "     IsAlone  \n",
       "0          0  \n",
       "1          0  \n",
       "2          1  \n",
       "3          0  \n",
       "4          1  \n",
       "..       ...  \n",
       "886        1  \n",
       "887        1  \n",
       "888        0  \n",
       "889        1  \n",
       "890        1  \n",
       "\n",
       "[891 rows x 14 columns]"
      ]
     },
     "execution_count": 30,
     "metadata": {},
     "output_type": "execute_result"
    }
   ],
   "source": [
    "df_train_copy2"
   ]
  },
  {
   "cell_type": "code",
   "execution_count": 31,
   "id": "81113e6c",
   "metadata": {
    "execution": {
     "iopub.execute_input": "2022-11-26T21:50:41.731992Z",
     "iopub.status.busy": "2022-11-26T21:50:41.731254Z",
     "iopub.status.idle": "2022-11-26T21:50:41.757494Z",
     "shell.execute_reply": "2022-11-26T21:50:41.756242Z"
    },
    "papermill": {
     "duration": 0.048469,
     "end_time": "2022-11-26T21:50:41.760246",
     "exception": false,
     "start_time": "2022-11-26T21:50:41.711777",
     "status": "completed"
    },
    "tags": []
   },
   "outputs": [
    {
     "data": {
      "text/html": [
       "<div>\n",
       "<style scoped>\n",
       "    .dataframe tbody tr th:only-of-type {\n",
       "        vertical-align: middle;\n",
       "    }\n",
       "\n",
       "    .dataframe tbody tr th {\n",
       "        vertical-align: top;\n",
       "    }\n",
       "\n",
       "    .dataframe thead th {\n",
       "        text-align: right;\n",
       "    }\n",
       "</style>\n",
       "<table border=\"1\" class=\"dataframe\">\n",
       "  <thead>\n",
       "    <tr style=\"text-align: right;\">\n",
       "      <th></th>\n",
       "      <th>PassengerId</th>\n",
       "      <th>Pclass</th>\n",
       "      <th>Name</th>\n",
       "      <th>Sex</th>\n",
       "      <th>Age</th>\n",
       "      <th>SibSp</th>\n",
       "      <th>Parch</th>\n",
       "      <th>Ticket</th>\n",
       "      <th>Fare</th>\n",
       "      <th>Embarked</th>\n",
       "      <th>Age_Level</th>\n",
       "      <th>Title</th>\n",
       "      <th>IsAlone</th>\n",
       "    </tr>\n",
       "  </thead>\n",
       "  <tbody>\n",
       "    <tr>\n",
       "      <th>0</th>\n",
       "      <td>892</td>\n",
       "      <td>3</td>\n",
       "      <td>Kelly, Mr. James</td>\n",
       "      <td>male</td>\n",
       "      <td>22.0</td>\n",
       "      <td>0</td>\n",
       "      <td>0</td>\n",
       "      <td>330911</td>\n",
       "      <td>-0.497413</td>\n",
       "      <td>Q</td>\n",
       "      <td>30</td>\n",
       "      <td>Mr</td>\n",
       "      <td>1</td>\n",
       "    </tr>\n",
       "    <tr>\n",
       "      <th>1</th>\n",
       "      <td>893</td>\n",
       "      <td>3</td>\n",
       "      <td>Wilkes, Mrs. James (Ellen Needs)</td>\n",
       "      <td>female</td>\n",
       "      <td>38.0</td>\n",
       "      <td>1</td>\n",
       "      <td>0</td>\n",
       "      <td>363272</td>\n",
       "      <td>-0.512278</td>\n",
       "      <td>S</td>\n",
       "      <td>40</td>\n",
       "      <td>Miss/Mrs</td>\n",
       "      <td>0</td>\n",
       "    </tr>\n",
       "    <tr>\n",
       "      <th>2</th>\n",
       "      <td>894</td>\n",
       "      <td>2</td>\n",
       "      <td>Myles, Mr. Thomas Francis</td>\n",
       "      <td>male</td>\n",
       "      <td>26.0</td>\n",
       "      <td>0</td>\n",
       "      <td>0</td>\n",
       "      <td>240276</td>\n",
       "      <td>-0.464100</td>\n",
       "      <td>Q</td>\n",
       "      <td>30</td>\n",
       "      <td>Mr</td>\n",
       "      <td>1</td>\n",
       "    </tr>\n",
       "    <tr>\n",
       "      <th>3</th>\n",
       "      <td>895</td>\n",
       "      <td>3</td>\n",
       "      <td>Wirz, Mr. Albert</td>\n",
       "      <td>male</td>\n",
       "      <td>35.0</td>\n",
       "      <td>0</td>\n",
       "      <td>0</td>\n",
       "      <td>315154</td>\n",
       "      <td>-0.482475</td>\n",
       "      <td>S</td>\n",
       "      <td>40</td>\n",
       "      <td>Mr</td>\n",
       "      <td>1</td>\n",
       "    </tr>\n",
       "    <tr>\n",
       "      <th>4</th>\n",
       "      <td>896</td>\n",
       "      <td>3</td>\n",
       "      <td>Hirvonen, Mrs. Alexander (Helga E Lindqvist)</td>\n",
       "      <td>female</td>\n",
       "      <td>35.0</td>\n",
       "      <td>1</td>\n",
       "      <td>1</td>\n",
       "      <td>3101298</td>\n",
       "      <td>-0.417492</td>\n",
       "      <td>S</td>\n",
       "      <td>40</td>\n",
       "      <td>Miss/Mrs</td>\n",
       "      <td>0</td>\n",
       "    </tr>\n",
       "    <tr>\n",
       "      <th>...</th>\n",
       "      <td>...</td>\n",
       "      <td>...</td>\n",
       "      <td>...</td>\n",
       "      <td>...</td>\n",
       "      <td>...</td>\n",
       "      <td>...</td>\n",
       "      <td>...</td>\n",
       "      <td>...</td>\n",
       "      <td>...</td>\n",
       "      <td>...</td>\n",
       "      <td>...</td>\n",
       "      <td>...</td>\n",
       "      <td>...</td>\n",
       "    </tr>\n",
       "    <tr>\n",
       "      <th>413</th>\n",
       "      <td>1305</td>\n",
       "      <td>3</td>\n",
       "      <td>Spector, Mr. Woolf</td>\n",
       "      <td>male</td>\n",
       "      <td>29.0</td>\n",
       "      <td>0</td>\n",
       "      <td>0</td>\n",
       "      <td>A.5. 3236</td>\n",
       "      <td>-0.493455</td>\n",
       "      <td>S</td>\n",
       "      <td>30</td>\n",
       "      <td>Mr</td>\n",
       "      <td>1</td>\n",
       "    </tr>\n",
       "    <tr>\n",
       "      <th>414</th>\n",
       "      <td>1306</td>\n",
       "      <td>1</td>\n",
       "      <td>Oliva y Ocana, Dona. Fermina</td>\n",
       "      <td>female</td>\n",
       "      <td>44.0</td>\n",
       "      <td>0</td>\n",
       "      <td>0</td>\n",
       "      <td>PC 17758</td>\n",
       "      <td>1.314435</td>\n",
       "      <td>C</td>\n",
       "      <td>50</td>\n",
       "      <td>Miss/Mrs</td>\n",
       "      <td>1</td>\n",
       "    </tr>\n",
       "    <tr>\n",
       "      <th>415</th>\n",
       "      <td>1307</td>\n",
       "      <td>3</td>\n",
       "      <td>Saether, Mr. Simon Sivertsen</td>\n",
       "      <td>male</td>\n",
       "      <td>24.0</td>\n",
       "      <td>0</td>\n",
       "      <td>0</td>\n",
       "      <td>SOTON/O.Q. 3101262</td>\n",
       "      <td>-0.507796</td>\n",
       "      <td>S</td>\n",
       "      <td>30</td>\n",
       "      <td>Mr</td>\n",
       "      <td>1</td>\n",
       "    </tr>\n",
       "    <tr>\n",
       "      <th>416</th>\n",
       "      <td>1308</td>\n",
       "      <td>3</td>\n",
       "      <td>Ware, Mr. Frederick</td>\n",
       "      <td>male</td>\n",
       "      <td>34.0</td>\n",
       "      <td>0</td>\n",
       "      <td>0</td>\n",
       "      <td>359309</td>\n",
       "      <td>-0.493455</td>\n",
       "      <td>S</td>\n",
       "      <td>40</td>\n",
       "      <td>Mr</td>\n",
       "      <td>1</td>\n",
       "    </tr>\n",
       "    <tr>\n",
       "      <th>417</th>\n",
       "      <td>1309</td>\n",
       "      <td>3</td>\n",
       "      <td>Peter, Master. Michael J</td>\n",
       "      <td>male</td>\n",
       "      <td>18.0</td>\n",
       "      <td>1</td>\n",
       "      <td>1</td>\n",
       "      <td>2668</td>\n",
       "      <td>-0.236957</td>\n",
       "      <td>C</td>\n",
       "      <td>20</td>\n",
       "      <td>Master</td>\n",
       "      <td>0</td>\n",
       "    </tr>\n",
       "  </tbody>\n",
       "</table>\n",
       "<p>418 rows × 13 columns</p>\n",
       "</div>"
      ],
      "text/plain": [
       "     PassengerId  Pclass                                          Name  \\\n",
       "0            892       3                              Kelly, Mr. James   \n",
       "1            893       3              Wilkes, Mrs. James (Ellen Needs)   \n",
       "2            894       2                     Myles, Mr. Thomas Francis   \n",
       "3            895       3                              Wirz, Mr. Albert   \n",
       "4            896       3  Hirvonen, Mrs. Alexander (Helga E Lindqvist)   \n",
       "..           ...     ...                                           ...   \n",
       "413         1305       3                            Spector, Mr. Woolf   \n",
       "414         1306       1                  Oliva y Ocana, Dona. Fermina   \n",
       "415         1307       3                  Saether, Mr. Simon Sivertsen   \n",
       "416         1308       3                           Ware, Mr. Frederick   \n",
       "417         1309       3                      Peter, Master. Michael J   \n",
       "\n",
       "        Sex   Age  SibSp  Parch              Ticket      Fare Embarked  \\\n",
       "0      male  22.0      0      0              330911 -0.497413        Q   \n",
       "1    female  38.0      1      0              363272 -0.512278        S   \n",
       "2      male  26.0      0      0              240276 -0.464100        Q   \n",
       "3      male  35.0      0      0              315154 -0.482475        S   \n",
       "4    female  35.0      1      1             3101298 -0.417492        S   \n",
       "..      ...   ...    ...    ...                 ...       ...      ...   \n",
       "413    male  29.0      0      0           A.5. 3236 -0.493455        S   \n",
       "414  female  44.0      0      0            PC 17758  1.314435        C   \n",
       "415    male  24.0      0      0  SOTON/O.Q. 3101262 -0.507796        S   \n",
       "416    male  34.0      0      0              359309 -0.493455        S   \n",
       "417    male  18.0      1      1                2668 -0.236957        C   \n",
       "\n",
       "    Age_Level     Title  IsAlone  \n",
       "0          30        Mr        1  \n",
       "1          40  Miss/Mrs        0  \n",
       "2          30        Mr        1  \n",
       "3          40        Mr        1  \n",
       "4          40  Miss/Mrs        0  \n",
       "..        ...       ...      ...  \n",
       "413        30        Mr        1  \n",
       "414        50  Miss/Mrs        1  \n",
       "415        30        Mr        1  \n",
       "416        40        Mr        1  \n",
       "417        20    Master        0  \n",
       "\n",
       "[418 rows x 13 columns]"
      ]
     },
     "execution_count": 31,
     "metadata": {},
     "output_type": "execute_result"
    }
   ],
   "source": [
    "df_test_copy"
   ]
  },
  {
   "cell_type": "code",
   "execution_count": 32,
   "id": "6d25590f",
   "metadata": {
    "execution": {
     "iopub.execute_input": "2022-11-26T21:50:41.800379Z",
     "iopub.status.busy": "2022-11-26T21:50:41.799975Z",
     "iopub.status.idle": "2022-11-26T21:50:41.804933Z",
     "shell.execute_reply": "2022-11-26T21:50:41.804108Z"
    },
    "papermill": {
     "duration": 0.027564,
     "end_time": "2022-11-26T21:50:41.807135",
     "exception": false,
     "start_time": "2022-11-26T21:50:41.779571",
     "status": "completed"
    },
    "tags": []
   },
   "outputs": [],
   "source": [
    "#df_train_copy\n",
    "df_train_try2 = df_train_copy2.copy(deep=True)"
   ]
  },
  {
   "cell_type": "code",
   "execution_count": 33,
   "id": "e5755b16",
   "metadata": {
    "execution": {
     "iopub.execute_input": "2022-11-26T21:50:41.847347Z",
     "iopub.status.busy": "2022-11-26T21:50:41.846887Z",
     "iopub.status.idle": "2022-11-26T21:50:41.872621Z",
     "shell.execute_reply": "2022-11-26T21:50:41.871405Z"
    },
    "papermill": {
     "duration": 0.049218,
     "end_time": "2022-11-26T21:50:41.875531",
     "exception": false,
     "start_time": "2022-11-26T21:50:41.826313",
     "status": "completed"
    },
    "tags": []
   },
   "outputs": [],
   "source": [
    "df_train_try2.drop(['PassengerId','Name','SibSp','Parch','Ticket'], axis=1, inplace=True)\n",
    "#sex dummy\n",
    "sex_dummy = pd.get_dummies(df_train_try2['Sex'])\n",
    "df_train_try2 = pd.concat((df_train_try2, sex_dummy), axis=1)\n",
    "#Embarked dummy\n",
    "Embarked_dummy = pd.get_dummies(df_train_try2['Embarked'])\n",
    "df_train_try2 = pd.concat((df_train_try2, Embarked_dummy), axis=1)\n",
    "#title dummy\n",
    "title_dummy = pd.get_dummies(df_train_try2['Title'])\n",
    "df_train_try2 = pd.concat((df_train_try2, title_dummy), axis=1)\n",
    "#drop original column\n",
    "df_train_try2.drop(['Sex','Title','Embarked','Age','Mr'],axis=1,inplace=True)\n",
    "#df_train_try2\n",
    "\n",
    "df_test_copy.drop(['PassengerId','Name','SibSp','Parch','Ticket'], axis=1, inplace=True)\n",
    "#sex dummy\n",
    "sex_dummy = pd.get_dummies(df_test_copy['Sex'])\n",
    "df_test_copy = pd.concat((df_test_copy, sex_dummy), axis=1)\n",
    "#Embarked dummy\n",
    "Embarked_dummy = pd.get_dummies(df_test_copy['Embarked'])\n",
    "df_test_copy = pd.concat((df_test_copy, Embarked_dummy), axis=1)\n",
    "#title dummy\n",
    "title_dummy = pd.get_dummies(df_test_copy['Title'])\n",
    "df_test_copy = pd.concat((df_test_copy, title_dummy), axis=1)\n",
    "#drop original column\n",
    "df_test_copy.drop(['Sex','Title','Embarked','Age','Mr'],axis=1,inplace=True)"
   ]
  },
  {
   "cell_type": "code",
   "execution_count": 34,
   "id": "158847c2",
   "metadata": {
    "execution": {
     "iopub.execute_input": "2022-11-26T21:50:41.917147Z",
     "iopub.status.busy": "2022-11-26T21:50:41.916677Z",
     "iopub.status.idle": "2022-11-26T21:50:41.938571Z",
     "shell.execute_reply": "2022-11-26T21:50:41.937156Z"
    },
    "papermill": {
     "duration": 0.045561,
     "end_time": "2022-11-26T21:50:41.941202",
     "exception": false,
     "start_time": "2022-11-26T21:50:41.895641",
     "status": "completed"
    },
    "tags": []
   },
   "outputs": [
    {
     "data": {
      "text/html": [
       "<div>\n",
       "<style scoped>\n",
       "    .dataframe tbody tr th:only-of-type {\n",
       "        vertical-align: middle;\n",
       "    }\n",
       "\n",
       "    .dataframe tbody tr th {\n",
       "        vertical-align: top;\n",
       "    }\n",
       "\n",
       "    .dataframe thead th {\n",
       "        text-align: right;\n",
       "    }\n",
       "</style>\n",
       "<table border=\"1\" class=\"dataframe\">\n",
       "  <thead>\n",
       "    <tr style=\"text-align: right;\">\n",
       "      <th></th>\n",
       "      <th>Survived</th>\n",
       "      <th>Pclass</th>\n",
       "      <th>Fare</th>\n",
       "      <th>Age_Level</th>\n",
       "      <th>IsAlone</th>\n",
       "      <th>female</th>\n",
       "      <th>male</th>\n",
       "      <th>C</th>\n",
       "      <th>Q</th>\n",
       "      <th>S</th>\n",
       "      <th>Dr/major/Military</th>\n",
       "      <th>Master</th>\n",
       "      <th>Miss/Mrs</th>\n",
       "    </tr>\n",
       "  </thead>\n",
       "  <tbody>\n",
       "    <tr>\n",
       "      <th>0</th>\n",
       "      <td>0</td>\n",
       "      <td>3</td>\n",
       "      <td>-0.502445</td>\n",
       "      <td>30</td>\n",
       "      <td>0</td>\n",
       "      <td>0</td>\n",
       "      <td>1</td>\n",
       "      <td>0</td>\n",
       "      <td>0</td>\n",
       "      <td>1</td>\n",
       "      <td>0</td>\n",
       "      <td>0</td>\n",
       "      <td>0</td>\n",
       "    </tr>\n",
       "    <tr>\n",
       "      <th>1</th>\n",
       "      <td>1</td>\n",
       "      <td>1</td>\n",
       "      <td>0.786845</td>\n",
       "      <td>40</td>\n",
       "      <td>0</td>\n",
       "      <td>1</td>\n",
       "      <td>0</td>\n",
       "      <td>1</td>\n",
       "      <td>0</td>\n",
       "      <td>0</td>\n",
       "      <td>0</td>\n",
       "      <td>0</td>\n",
       "      <td>1</td>\n",
       "    </tr>\n",
       "    <tr>\n",
       "      <th>2</th>\n",
       "      <td>1</td>\n",
       "      <td>3</td>\n",
       "      <td>-0.488854</td>\n",
       "      <td>30</td>\n",
       "      <td>1</td>\n",
       "      <td>1</td>\n",
       "      <td>0</td>\n",
       "      <td>0</td>\n",
       "      <td>0</td>\n",
       "      <td>1</td>\n",
       "      <td>0</td>\n",
       "      <td>0</td>\n",
       "      <td>1</td>\n",
       "    </tr>\n",
       "    <tr>\n",
       "      <th>3</th>\n",
       "      <td>1</td>\n",
       "      <td>1</td>\n",
       "      <td>0.420730</td>\n",
       "      <td>40</td>\n",
       "      <td>0</td>\n",
       "      <td>1</td>\n",
       "      <td>0</td>\n",
       "      <td>0</td>\n",
       "      <td>0</td>\n",
       "      <td>1</td>\n",
       "      <td>0</td>\n",
       "      <td>0</td>\n",
       "      <td>1</td>\n",
       "    </tr>\n",
       "    <tr>\n",
       "      <th>4</th>\n",
       "      <td>0</td>\n",
       "      <td>3</td>\n",
       "      <td>-0.486337</td>\n",
       "      <td>40</td>\n",
       "      <td>1</td>\n",
       "      <td>0</td>\n",
       "      <td>1</td>\n",
       "      <td>0</td>\n",
       "      <td>0</td>\n",
       "      <td>1</td>\n",
       "      <td>0</td>\n",
       "      <td>0</td>\n",
       "      <td>0</td>\n",
       "    </tr>\n",
       "    <tr>\n",
       "      <th>...</th>\n",
       "      <td>...</td>\n",
       "      <td>...</td>\n",
       "      <td>...</td>\n",
       "      <td>...</td>\n",
       "      <td>...</td>\n",
       "      <td>...</td>\n",
       "      <td>...</td>\n",
       "      <td>...</td>\n",
       "      <td>...</td>\n",
       "      <td>...</td>\n",
       "      <td>...</td>\n",
       "      <td>...</td>\n",
       "      <td>...</td>\n",
       "    </tr>\n",
       "    <tr>\n",
       "      <th>886</th>\n",
       "      <td>0</td>\n",
       "      <td>2</td>\n",
       "      <td>-0.386671</td>\n",
       "      <td>30</td>\n",
       "      <td>1</td>\n",
       "      <td>0</td>\n",
       "      <td>1</td>\n",
       "      <td>0</td>\n",
       "      <td>0</td>\n",
       "      <td>1</td>\n",
       "      <td>1</td>\n",
       "      <td>0</td>\n",
       "      <td>0</td>\n",
       "    </tr>\n",
       "    <tr>\n",
       "      <th>887</th>\n",
       "      <td>1</td>\n",
       "      <td>1</td>\n",
       "      <td>-0.044381</td>\n",
       "      <td>20</td>\n",
       "      <td>1</td>\n",
       "      <td>1</td>\n",
       "      <td>0</td>\n",
       "      <td>0</td>\n",
       "      <td>0</td>\n",
       "      <td>1</td>\n",
       "      <td>0</td>\n",
       "      <td>0</td>\n",
       "      <td>1</td>\n",
       "    </tr>\n",
       "    <tr>\n",
       "      <th>888</th>\n",
       "      <td>0</td>\n",
       "      <td>3</td>\n",
       "      <td>-0.176263</td>\n",
       "      <td>30</td>\n",
       "      <td>0</td>\n",
       "      <td>1</td>\n",
       "      <td>0</td>\n",
       "      <td>0</td>\n",
       "      <td>0</td>\n",
       "      <td>1</td>\n",
       "      <td>0</td>\n",
       "      <td>0</td>\n",
       "      <td>1</td>\n",
       "    </tr>\n",
       "    <tr>\n",
       "      <th>889</th>\n",
       "      <td>1</td>\n",
       "      <td>1</td>\n",
       "      <td>-0.044381</td>\n",
       "      <td>30</td>\n",
       "      <td>1</td>\n",
       "      <td>0</td>\n",
       "      <td>1</td>\n",
       "      <td>1</td>\n",
       "      <td>0</td>\n",
       "      <td>0</td>\n",
       "      <td>0</td>\n",
       "      <td>0</td>\n",
       "      <td>0</td>\n",
       "    </tr>\n",
       "    <tr>\n",
       "      <th>890</th>\n",
       "      <td>0</td>\n",
       "      <td>3</td>\n",
       "      <td>-0.492378</td>\n",
       "      <td>40</td>\n",
       "      <td>1</td>\n",
       "      <td>0</td>\n",
       "      <td>1</td>\n",
       "      <td>0</td>\n",
       "      <td>1</td>\n",
       "      <td>0</td>\n",
       "      <td>0</td>\n",
       "      <td>0</td>\n",
       "      <td>0</td>\n",
       "    </tr>\n",
       "  </tbody>\n",
       "</table>\n",
       "<p>891 rows × 13 columns</p>\n",
       "</div>"
      ],
      "text/plain": [
       "     Survived  Pclass      Fare Age_Level  IsAlone  female  male  C  Q  S  \\\n",
       "0           0       3 -0.502445        30        0       0     1  0  0  1   \n",
       "1           1       1  0.786845        40        0       1     0  1  0  0   \n",
       "2           1       3 -0.488854        30        1       1     0  0  0  1   \n",
       "3           1       1  0.420730        40        0       1     0  0  0  1   \n",
       "4           0       3 -0.486337        40        1       0     1  0  0  1   \n",
       "..        ...     ...       ...       ...      ...     ...   ... .. .. ..   \n",
       "886         0       2 -0.386671        30        1       0     1  0  0  1   \n",
       "887         1       1 -0.044381        20        1       1     0  0  0  1   \n",
       "888         0       3 -0.176263        30        0       1     0  0  0  1   \n",
       "889         1       1 -0.044381        30        1       0     1  1  0  0   \n",
       "890         0       3 -0.492378        40        1       0     1  0  1  0   \n",
       "\n",
       "     Dr/major/Military  Master  Miss/Mrs  \n",
       "0                    0       0         0  \n",
       "1                    0       0         1  \n",
       "2                    0       0         1  \n",
       "3                    0       0         1  \n",
       "4                    0       0         0  \n",
       "..                 ...     ...       ...  \n",
       "886                  1       0         0  \n",
       "887                  0       0         1  \n",
       "888                  0       0         1  \n",
       "889                  0       0         0  \n",
       "890                  0       0         0  \n",
       "\n",
       "[891 rows x 13 columns]"
      ]
     },
     "execution_count": 34,
     "metadata": {},
     "output_type": "execute_result"
    }
   ],
   "source": [
    "df_train_try2"
   ]
  },
  {
   "cell_type": "code",
   "execution_count": 35,
   "id": "f4595a3b",
   "metadata": {
    "execution": {
     "iopub.execute_input": "2022-11-26T21:50:41.982697Z",
     "iopub.status.busy": "2022-11-26T21:50:41.982308Z",
     "iopub.status.idle": "2022-11-26T21:50:41.987954Z",
     "shell.execute_reply": "2022-11-26T21:50:41.986742Z"
    },
    "papermill": {
     "duration": 0.029433,
     "end_time": "2022-11-26T21:50:41.990326",
     "exception": false,
     "start_time": "2022-11-26T21:50:41.960893",
     "status": "completed"
    },
    "tags": []
   },
   "outputs": [],
   "source": [
    "import seaborn as sns\n",
    "import matplotlib.pyplot as plt\n",
    "from sklearn.preprocessing import StandardScaler\n",
    "from sklearn.decomposition import PCA\n",
    "plt.style.use('ggplot')"
   ]
  },
  {
   "cell_type": "code",
   "execution_count": 36,
   "id": "b2dcc788",
   "metadata": {
    "execution": {
     "iopub.execute_input": "2022-11-26T21:50:42.032932Z",
     "iopub.status.busy": "2022-11-26T21:50:42.031830Z",
     "iopub.status.idle": "2022-11-26T21:50:42.039146Z",
     "shell.execute_reply": "2022-11-26T21:50:42.037925Z"
    },
    "papermill": {
     "duration": 0.030903,
     "end_time": "2022-11-26T21:50:42.041795",
     "exception": false,
     "start_time": "2022-11-26T21:50:42.010892",
     "status": "completed"
    },
    "tags": []
   },
   "outputs": [
    {
     "data": {
      "text/plain": [
       "(891, 13)"
      ]
     },
     "execution_count": 36,
     "metadata": {},
     "output_type": "execute_result"
    }
   ],
   "source": [
    "df_train_try2.shape"
   ]
  },
  {
   "cell_type": "code",
   "execution_count": 37,
   "id": "8e43f898",
   "metadata": {
    "execution": {
     "iopub.execute_input": "2022-11-26T21:50:42.084062Z",
     "iopub.status.busy": "2022-11-26T21:50:42.083565Z",
     "iopub.status.idle": "2022-11-26T21:50:42.108915Z",
     "shell.execute_reply": "2022-11-26T21:50:42.107183Z"
    },
    "papermill": {
     "duration": 0.051542,
     "end_time": "2022-11-26T21:50:42.113732",
     "exception": false,
     "start_time": "2022-11-26T21:50:42.062190",
     "status": "completed"
    },
    "tags": []
   },
   "outputs": [],
   "source": [
    "pca_13 = PCA(n_components=13, random_state=2000)\n",
    "pca_13.fit(df_train_try2)\n",
    "X_pca_13 = pca_13.transform(df_train_try2)"
   ]
  },
  {
   "cell_type": "code",
   "execution_count": 38,
   "id": "cfb4b7b5",
   "metadata": {
    "execution": {
     "iopub.execute_input": "2022-11-26T21:50:42.217549Z",
     "iopub.status.busy": "2022-11-26T21:50:42.216179Z",
     "iopub.status.idle": "2022-11-26T21:50:42.224040Z",
     "shell.execute_reply": "2022-11-26T21:50:42.223284Z"
    },
    "papermill": {
     "duration": 0.061895,
     "end_time": "2022-11-26T21:50:42.226018",
     "exception": false,
     "start_time": "2022-11-26T21:50:42.164123",
     "status": "completed"
    },
    "tags": []
   },
   "outputs": [
    {
     "data": {
      "text/plain": [
       "array([ 98.28035589,  99.04171051,  99.40321823,  99.58665305,\n",
       "        99.74769175,  99.85179692,  99.92025363,  99.97238869,\n",
       "        99.98823102,  99.99962291, 100.        , 100.        ,\n",
       "       100.        ])"
      ]
     },
     "execution_count": 38,
     "metadata": {},
     "output_type": "execute_result"
    }
   ],
   "source": [
    "np.cumsum(pca_13.explained_variance_ratio_*100)"
   ]
  },
  {
   "cell_type": "code",
   "execution_count": 39,
   "id": "4c7d3265",
   "metadata": {
    "execution": {
     "iopub.execute_input": "2022-11-26T21:50:42.269057Z",
     "iopub.status.busy": "2022-11-26T21:50:42.268308Z",
     "iopub.status.idle": "2022-11-26T21:50:42.634278Z",
     "shell.execute_reply": "2022-11-26T21:50:42.633092Z"
    },
    "papermill": {
     "duration": 0.390184,
     "end_time": "2022-11-26T21:50:42.636618",
     "exception": false,
     "start_time": "2022-11-26T21:50:42.246434",
     "status": "completed"
    },
    "tags": []
   },
   "outputs": [
    {
     "data": {
      "image/png": "[encoded data removed]",
      "text/plain": [
       "<Figure size 432x288 with 1 Axes>"
      ]
     },
     "metadata": {},
     "output_type": "display_data"
    }
   ],
   "source": [
    "plt.plot(np.cumsum(pca_13.explained_variance_ratio_))\n",
    "plt.xlabel('Number of components')\n",
    "plt.ylabel('Explained variance')\n",
    "plt.savefig('elbow_plt.png', dpi=100)"
   ]
  },
  {
   "cell_type": "code",
   "execution_count": 40,
   "id": "36c233ab",
   "metadata": {
    "execution": {
     "iopub.execute_input": "2022-11-26T21:50:42.677565Z",
     "iopub.status.busy": "2022-11-26T21:50:42.677105Z",
     "iopub.status.idle": "2022-11-26T21:50:42.693038Z",
     "shell.execute_reply": "2022-11-26T21:50:42.691378Z"
    },
    "papermill": {
     "duration": 0.041542,
     "end_time": "2022-11-26T21:50:42.697808",
     "exception": false,
     "start_time": "2022-11-26T21:50:42.656266",
     "status": "completed"
    },
    "tags": []
   },
   "outputs": [],
   "source": [
    "pca_95 = PCA(n_components=0.99, random_state=2000)\n",
    "pca_95.fit(df_train_try2)\n",
    "X_pca_95 = pca_95.transform(df_train_try2)"
   ]
  },
  {
   "cell_type": "code",
   "execution_count": 41,
   "id": "39d4cd00",
   "metadata": {
    "execution": {
     "iopub.execute_input": "2022-11-26T21:50:42.803363Z",
     "iopub.status.busy": "2022-11-26T21:50:42.802069Z",
     "iopub.status.idle": "2022-11-26T21:50:42.809752Z",
     "shell.execute_reply": "2022-11-26T21:50:42.808993Z"
    },
    "papermill": {
     "duration": 0.062905,
     "end_time": "2022-11-26T21:50:42.811664",
     "exception": false,
     "start_time": "2022-11-26T21:50:42.748759",
     "status": "completed"
    },
    "tags": []
   },
   "outputs": [
    {
     "data": {
      "text/plain": [
       "(891, 2)"
      ]
     },
     "execution_count": 41,
     "metadata": {},
     "output_type": "execute_result"
    }
   ],
   "source": [
    "X_pca_95.shape"
   ]
  },
  {
   "cell_type": "code",
   "execution_count": 42,
   "id": "4f4a87a0",
   "metadata": {
    "execution": {
     "iopub.execute_input": "2022-11-26T21:50:42.853259Z",
     "iopub.status.busy": "2022-11-26T21:50:42.852460Z",
     "iopub.status.idle": "2022-11-26T21:50:42.872311Z",
     "shell.execute_reply": "2022-11-26T21:50:42.871058Z"
    },
    "papermill": {
     "duration": 0.043648,
     "end_time": "2022-11-26T21:50:42.874990",
     "exception": false,
     "start_time": "2022-11-26T21:50:42.831342",
     "status": "completed"
    },
    "tags": []
   },
   "outputs": [
    {
     "data": {
      "text/html": [
       "<div>\n",
       "<style scoped>\n",
       "    .dataframe tbody tr th:only-of-type {\n",
       "        vertical-align: middle;\n",
       "    }\n",
       "\n",
       "    .dataframe tbody tr th {\n",
       "        vertical-align: top;\n",
       "    }\n",
       "\n",
       "    .dataframe thead th {\n",
       "        text-align: right;\n",
       "    }\n",
       "</style>\n",
       "<table border=\"1\" class=\"dataframe\">\n",
       "  <thead>\n",
       "    <tr style=\"text-align: right;\">\n",
       "      <th></th>\n",
       "      <th>Pclass</th>\n",
       "      <th>Fare</th>\n",
       "      <th>Age_Level</th>\n",
       "      <th>IsAlone</th>\n",
       "      <th>female</th>\n",
       "      <th>male</th>\n",
       "      <th>C</th>\n",
       "      <th>Q</th>\n",
       "      <th>S</th>\n",
       "      <th>Dr/major/Military</th>\n",
       "      <th>Master</th>\n",
       "      <th>Miss/Mrs</th>\n",
       "    </tr>\n",
       "  </thead>\n",
       "  <tbody>\n",
       "    <tr>\n",
       "      <th>0</th>\n",
       "      <td>3</td>\n",
       "      <td>-0.497413</td>\n",
       "      <td>30</td>\n",
       "      <td>1</td>\n",
       "      <td>0</td>\n",
       "      <td>1</td>\n",
       "      <td>0</td>\n",
       "      <td>1</td>\n",
       "      <td>0</td>\n",
       "      <td>0</td>\n",
       "      <td>0</td>\n",
       "      <td>0</td>\n",
       "    </tr>\n",
       "    <tr>\n",
       "      <th>1</th>\n",
       "      <td>3</td>\n",
       "      <td>-0.512278</td>\n",
       "      <td>40</td>\n",
       "      <td>0</td>\n",
       "      <td>1</td>\n",
       "      <td>0</td>\n",
       "      <td>0</td>\n",
       "      <td>0</td>\n",
       "      <td>1</td>\n",
       "      <td>0</td>\n",
       "      <td>0</td>\n",
       "      <td>1</td>\n",
       "    </tr>\n",
       "    <tr>\n",
       "      <th>2</th>\n",
       "      <td>2</td>\n",
       "      <td>-0.464100</td>\n",
       "      <td>30</td>\n",
       "      <td>1</td>\n",
       "      <td>0</td>\n",
       "      <td>1</td>\n",
       "      <td>0</td>\n",
       "      <td>1</td>\n",
       "      <td>0</td>\n",
       "      <td>0</td>\n",
       "      <td>0</td>\n",
       "      <td>0</td>\n",
       "    </tr>\n",
       "    <tr>\n",
       "      <th>3</th>\n",
       "      <td>3</td>\n",
       "      <td>-0.482475</td>\n",
       "      <td>40</td>\n",
       "      <td>1</td>\n",
       "      <td>0</td>\n",
       "      <td>1</td>\n",
       "      <td>0</td>\n",
       "      <td>0</td>\n",
       "      <td>1</td>\n",
       "      <td>0</td>\n",
       "      <td>0</td>\n",
       "      <td>0</td>\n",
       "    </tr>\n",
       "    <tr>\n",
       "      <th>4</th>\n",
       "      <td>3</td>\n",
       "      <td>-0.417492</td>\n",
       "      <td>40</td>\n",
       "      <td>0</td>\n",
       "      <td>1</td>\n",
       "      <td>0</td>\n",
       "      <td>0</td>\n",
       "      <td>0</td>\n",
       "      <td>1</td>\n",
       "      <td>0</td>\n",
       "      <td>0</td>\n",
       "      <td>1</td>\n",
       "    </tr>\n",
       "    <tr>\n",
       "      <th>...</th>\n",
       "      <td>...</td>\n",
       "      <td>...</td>\n",
       "      <td>...</td>\n",
       "      <td>...</td>\n",
       "      <td>...</td>\n",
       "      <td>...</td>\n",
       "      <td>...</td>\n",
       "      <td>...</td>\n",
       "      <td>...</td>\n",
       "      <td>...</td>\n",
       "      <td>...</td>\n",
       "      <td>...</td>\n",
       "    </tr>\n",
       "    <tr>\n",
       "      <th>413</th>\n",
       "      <td>3</td>\n",
       "      <td>-0.493455</td>\n",
       "      <td>30</td>\n",
       "      <td>1</td>\n",
       "      <td>0</td>\n",
       "      <td>1</td>\n",
       "      <td>0</td>\n",
       "      <td>0</td>\n",
       "      <td>1</td>\n",
       "      <td>0</td>\n",
       "      <td>0</td>\n",
       "      <td>0</td>\n",
       "    </tr>\n",
       "    <tr>\n",
       "      <th>414</th>\n",
       "      <td>1</td>\n",
       "      <td>1.314435</td>\n",
       "      <td>50</td>\n",
       "      <td>1</td>\n",
       "      <td>1</td>\n",
       "      <td>0</td>\n",
       "      <td>1</td>\n",
       "      <td>0</td>\n",
       "      <td>0</td>\n",
       "      <td>0</td>\n",
       "      <td>0</td>\n",
       "      <td>1</td>\n",
       "    </tr>\n",
       "    <tr>\n",
       "      <th>415</th>\n",
       "      <td>3</td>\n",
       "      <td>-0.507796</td>\n",
       "      <td>30</td>\n",
       "      <td>1</td>\n",
       "      <td>0</td>\n",
       "      <td>1</td>\n",
       "      <td>0</td>\n",
       "      <td>0</td>\n",
       "      <td>1</td>\n",
       "      <td>0</td>\n",
       "      <td>0</td>\n",
       "      <td>0</td>\n",
       "    </tr>\n",
       "    <tr>\n",
       "      <th>416</th>\n",
       "      <td>3</td>\n",
       "      <td>-0.493455</td>\n",
       "      <td>40</td>\n",
       "      <td>1</td>\n",
       "      <td>0</td>\n",
       "      <td>1</td>\n",
       "      <td>0</td>\n",
       "      <td>0</td>\n",
       "      <td>1</td>\n",
       "      <td>0</td>\n",
       "      <td>0</td>\n",
       "      <td>0</td>\n",
       "    </tr>\n",
       "    <tr>\n",
       "      <th>417</th>\n",
       "      <td>3</td>\n",
       "      <td>-0.236957</td>\n",
       "      <td>20</td>\n",
       "      <td>0</td>\n",
       "      <td>0</td>\n",
       "      <td>1</td>\n",
       "      <td>1</td>\n",
       "      <td>0</td>\n",
       "      <td>0</td>\n",
       "      <td>0</td>\n",
       "      <td>1</td>\n",
       "      <td>0</td>\n",
       "    </tr>\n",
       "  </tbody>\n",
       "</table>\n",
       "<p>418 rows × 12 columns</p>\n",
       "</div>"
      ],
      "text/plain": [
       "     Pclass      Fare Age_Level  IsAlone  female  male  C  Q  S  \\\n",
       "0         3 -0.497413        30        1       0     1  0  1  0   \n",
       "1         3 -0.512278        40        0       1     0  0  0  1   \n",
       "2         2 -0.464100        30        1       0     1  0  1  0   \n",
       "3         3 -0.482475        40        1       0     1  0  0  1   \n",
       "4         3 -0.417492        40        0       1     0  0  0  1   \n",
       "..      ...       ...       ...      ...     ...   ... .. .. ..   \n",
       "413       3 -0.493455        30        1       0     1  0  0  1   \n",
       "414       1  1.314435        50        1       1     0  1  0  0   \n",
       "415       3 -0.507796        30        1       0     1  0  0  1   \n",
       "416       3 -0.493455        40        1       0     1  0  0  1   \n",
       "417       3 -0.236957        20        0       0     1  1  0  0   \n",
       "\n",
       "     Dr/major/Military  Master  Miss/Mrs  \n",
       "0                    0       0         0  \n",
       "1                    0       0         1  \n",
       "2                    0       0         0  \n",
       "3                    0       0         0  \n",
       "4                    0       0         1  \n",
       "..                 ...     ...       ...  \n",
       "413                  0       0         0  \n",
       "414                  0       0         1  \n",
       "415                  0       0         0  \n",
       "416                  0       0         0  \n",
       "417                  0       1         0  \n",
       "\n",
       "[418 rows x 12 columns]"
      ]
     },
     "execution_count": 42,
     "metadata": {},
     "output_type": "execute_result"
    }
   ],
   "source": [
    "df_test_copy"
   ]
  },
  {
   "cell_type": "code",
   "execution_count": 43,
   "id": "45067265",
   "metadata": {
    "execution": {
     "iopub.execute_input": "2022-11-26T21:50:42.919398Z",
     "iopub.status.busy": "2022-11-26T21:50:42.918698Z",
     "iopub.status.idle": "2022-11-26T21:50:44.001121Z",
     "shell.execute_reply": "2022-11-26T21:50:44.000312Z"
    },
    "papermill": {
     "duration": 1.107423,
     "end_time": "2022-11-26T21:50:44.003905",
     "exception": false,
     "start_time": "2022-11-26T21:50:42.896482",
     "status": "completed"
    },
    "tags": []
   },
   "outputs": [
    {
     "data": {
      "text/plain": [
       "<function matplotlib.pyplot.show(close=None, block=None)>"
      ]
     },
     "execution_count": 43,
     "metadata": {},
     "output_type": "execute_result"
    },
    {
     "data": {
      "image/png": "[encoded data removed]",
      "text/plain": [
       "<Figure size 720x720 with 2 Axes>"
      ]
     },
     "metadata": {},
     "output_type": "display_data"
    }
   ],
   "source": [
    "sns.heatmap(df_train_try2.corr(),annot=True,cmap='icefire_r',linewidths=0.2)\n",
    "plot = plt.gcf()\n",
    "plot.set_size_inches(10,10)\n",
    "plt.show"
   ]
  },
  {
   "cell_type": "code",
   "execution_count": 44,
   "id": "91e3189c",
   "metadata": {
    "execution": {
     "iopub.execute_input": "2022-11-26T21:50:44.049821Z",
     "iopub.status.busy": "2022-11-26T21:50:44.049380Z",
     "iopub.status.idle": "2022-11-26T21:50:44.054794Z",
     "shell.execute_reply": "2022-11-26T21:50:44.053674Z"
    },
    "papermill": {
     "duration": 0.031126,
     "end_time": "2022-11-26T21:50:44.057196",
     "exception": false,
     "start_time": "2022-11-26T21:50:44.026070",
     "status": "completed"
    },
    "tags": []
   },
   "outputs": [],
   "source": [
    "from sklearn.model_selection import train_test_split\n",
    "from sklearn.model_selection import cross_validate"
   ]
  },
  {
   "cell_type": "code",
   "execution_count": 45,
   "id": "43e71e66",
   "metadata": {
    "execution": {
     "iopub.execute_input": "2022-11-26T21:50:44.104833Z",
     "iopub.status.busy": "2022-11-26T21:50:44.104405Z",
     "iopub.status.idle": "2022-11-26T21:50:44.111351Z",
     "shell.execute_reply": "2022-11-26T21:50:44.110225Z"
    },
    "papermill": {
     "duration": 0.033398,
     "end_time": "2022-11-26T21:50:44.113656",
     "exception": false,
     "start_time": "2022-11-26T21:50:44.080258",
     "status": "completed"
    },
    "tags": []
   },
   "outputs": [],
   "source": [
    "Y = df_train_try2['Survived'].copy(deep=True)\n",
    "df_train_try2.drop('Survived',axis=1, inplace=True)"
   ]
  },
  {
   "cell_type": "code",
   "execution_count": 46,
   "id": "8fe28e7a",
   "metadata": {
    "execution": {
     "iopub.execute_input": "2022-11-26T21:50:44.159196Z",
     "iopub.status.busy": "2022-11-26T21:50:44.158738Z",
     "iopub.status.idle": "2022-11-26T21:50:44.169190Z",
     "shell.execute_reply": "2022-11-26T21:50:44.168206Z"
    },
    "papermill": {
     "duration": 0.03625,
     "end_time": "2022-11-26T21:50:44.171666",
     "exception": false,
     "start_time": "2022-11-26T21:50:44.135416",
     "status": "completed"
    },
    "tags": []
   },
   "outputs": [],
   "source": [
    "np.random.seed(7)\n",
    "#try 2 data\n",
    "X_train2, X_rest, y_train2, y_rest = train_test_split(df_train_try2,Y,train_size=0.7, random_state=10)#training set split\n",
    "X_valid, X_test, y_valid, y_test = train_test_split(X_rest,y_rest,train_size=0.7, random_state=10)#validation set and testing set split"
   ]
  },
  {
   "cell_type": "code",
   "execution_count": 47,
   "id": "34c2cc77",
   "metadata": {
    "execution": {
     "iopub.execute_input": "2022-11-26T21:50:44.217123Z",
     "iopub.status.busy": "2022-11-26T21:50:44.216230Z",
     "iopub.status.idle": "2022-11-26T21:50:45.933680Z",
     "shell.execute_reply": "2022-11-26T21:50:45.932079Z"
    },
    "papermill": {
     "duration": 1.743208,
     "end_time": "2022-11-26T21:50:45.936608",
     "exception": false,
     "start_time": "2022-11-26T21:50:44.193400",
     "status": "completed"
    },
    "tags": []
   },
   "outputs": [
    {
     "name": "stdout",
     "output_type": "stream",
     "text": [
      "0.8449197860962567\n"
     ]
    }
   ],
   "source": [
    "#new data\n",
    "RFML = RandomForestClassifier(criterion='gini',\n",
    "                              n_estimators=1125, \n",
    "                              max_depth=6, \n",
    "                              min_samples_split=2, \n",
    "                              min_samples_leaf=2,\n",
    "                              max_features = 'auto',  \n",
    "                              bootstrap = False,\n",
    "                              random_state = 45)\n",
    "RFML.fit(X_train2,y_train2)\n",
    "print(RFML.score(X_valid, y_valid))"
   ]
  },
  {
   "cell_type": "code",
   "execution_count": 48,
   "id": "21e89b27",
   "metadata": {
    "execution": {
     "iopub.execute_input": "2022-11-26T21:50:45.983137Z",
     "iopub.status.busy": "2022-11-26T21:50:45.982716Z",
     "iopub.status.idle": "2022-11-26T21:50:45.996511Z",
     "shell.execute_reply": "2022-11-26T21:50:45.995006Z"
    },
    "papermill": {
     "duration": 0.039728,
     "end_time": "2022-11-26T21:50:45.999243",
     "exception": false,
     "start_time": "2022-11-26T21:50:45.959515",
     "status": "completed"
    },
    "tags": []
   },
   "outputs": [
    {
     "name": "stdout",
     "output_type": "stream",
     "text": [
      "0.786096256684492\n"
     ]
    }
   ],
   "source": [
    "#new data\n",
    "DTML = DecisionTreeClassifier()\n",
    "DTML.fit(X_train2,y_train2)\n",
    "print(DTML.score(X_valid, y_valid))"
   ]
  },
  {
   "cell_type": "code",
   "execution_count": 49,
   "id": "3aadfc65",
   "metadata": {
    "execution": {
     "iopub.execute_input": "2022-11-26T21:50:46.045775Z",
     "iopub.status.busy": "2022-11-26T21:50:46.045332Z",
     "iopub.status.idle": "2022-11-26T21:50:46.058698Z",
     "shell.execute_reply": "2022-11-26T21:50:46.057191Z"
    },
    "papermill": {
     "duration": 0.040698,
     "end_time": "2022-11-26T21:50:46.061882",
     "exception": false,
     "start_time": "2022-11-26T21:50:46.021184",
     "status": "completed"
    },
    "tags": []
   },
   "outputs": [
    {
     "name": "stdout",
     "output_type": "stream",
     "text": [
      "0.4222405603332591\n"
     ]
    }
   ],
   "source": [
    "#new data\n",
    "LRML = LinearRegression()\n",
    "LRML.fit(X_train2,y_train2)\n",
    "print(LRML.score(X_valid, y_valid))"
   ]
  },
  {
   "cell_type": "markdown",
   "id": "4eaac01f",
   "metadata": {
    "papermill": {
     "duration": 0.021782,
     "end_time": "2022-11-26T21:50:46.106390",
     "exception": false,
     "start_time": "2022-11-26T21:50:46.084608",
     "status": "completed"
    },
    "tags": []
   },
   "source": [
    "So based on the above, Random Forest Classifier have highest accuracy"
   ]
  },
  {
   "cell_type": "code",
   "execution_count": 50,
   "id": "bcd1bd84",
   "metadata": {
    "execution": {
     "iopub.execute_input": "2022-11-26T21:50:46.152532Z",
     "iopub.status.busy": "2022-11-26T21:50:46.151535Z",
     "iopub.status.idle": "2022-11-26T21:50:46.324765Z",
     "shell.execute_reply": "2022-11-26T21:50:46.323184Z"
    },
    "papermill": {
     "duration": 0.199171,
     "end_time": "2022-11-26T21:50:46.327463",
     "exception": false,
     "start_time": "2022-11-26T21:50:46.128292",
     "status": "completed"
    },
    "tags": []
   },
   "outputs": [
    {
     "name": "stdout",
     "output_type": "stream",
     "text": [
      "The f1_score is:  0.7943262411347518\n"
     ]
    }
   ],
   "source": [
    "from sklearn.metrics import f1_score\n",
    "print('The f1_score is: ', f1_score(y_valid,RFML.predict(X_valid)))"
   ]
  },
  {
   "cell_type": "code",
   "execution_count": 51,
   "id": "64e56c6d",
   "metadata": {
    "execution": {
     "iopub.execute_input": "2022-11-26T21:50:46.374208Z",
     "iopub.status.busy": "2022-11-26T21:50:46.373361Z",
     "iopub.status.idle": "2022-11-26T21:50:46.545420Z",
     "shell.execute_reply": "2022-11-26T21:50:46.543978Z"
    },
    "papermill": {
     "duration": 0.199097,
     "end_time": "2022-11-26T21:50:46.548570",
     "exception": false,
     "start_time": "2022-11-26T21:50:46.349473",
     "status": "completed"
    },
    "tags": []
   },
   "outputs": [
    {
     "name": "stdout",
     "output_type": "stream",
     "text": [
      "The AUC is:  0.8286904761904761\n"
     ]
    }
   ],
   "source": [
    "from sklearn.metrics import auc, roc_curve\n",
    "RFML_fpr, RFML_tpr, threshold = roc_curve(y_valid, RFML.predict(X_valid))\n",
    "print('The AUC is: ', auc(RFML_fpr,RFML_tpr))"
   ]
  },
  {
   "cell_type": "code",
   "execution_count": 52,
   "id": "a0e65e0e",
   "metadata": {
    "execution": {
     "iopub.execute_input": "2022-11-26T21:50:46.595700Z",
     "iopub.status.busy": "2022-11-26T21:50:46.594756Z",
     "iopub.status.idle": "2022-11-26T21:50:46.810078Z",
     "shell.execute_reply": "2022-11-26T21:50:46.808577Z"
    },
    "papermill": {
     "duration": 0.242127,
     "end_time": "2022-11-26T21:50:46.812900",
     "exception": false,
     "start_time": "2022-11-26T21:50:46.570773",
     "status": "completed"
    },
    "tags": []
   },
   "outputs": [
    {
     "name": "stdout",
     "output_type": "stream",
     "text": [
      "Your submission was successfully saved!\n"
     ]
    }
   ],
   "source": [
    "predictions = RFML.predict(df_test_copy)\n",
    "output = pd.DataFrame({'PassengerId': df_test.PassengerId, 'Survived': predictions})\n",
    "output.to_csv('submission.csv', index=False)\n",
    "print(\"Your submission was successfully saved!\")"
   ]
  }
 ],
 "metadata": {
  "kernelspec": {
   "display_name": "Python 3",
   "language": "python",
   "name": "python3"
  },
  "language_info": {
   "codemirror_mode": {
    "name": "ipython",
    "version": 3
   },
   "file_extension": ".py",
   "mimetype": "text/x-python",
   "name": "python",
   "nbconvert_exporter": "python",
   "pygments_lexer": "ipython3",
   "version": "3.7.12"
  },
  "papermill": {
   "default_parameters": {},
   "duration": 19.845031,
   "end_time": "2022-11-26T21:50:47.659689",
   "environment_variables": {},
   "exception": null,
   "input_path": "__notebook__.ipynb",
   "output_path": "__notebook__.ipynb",
   "parameters": {},
   "start_time": "2022-11-26T21:50:27.814658",
   "version": "2.3.4"
  }
 },
 "nbformat": 4,
 "nbformat_minor": 5
}
